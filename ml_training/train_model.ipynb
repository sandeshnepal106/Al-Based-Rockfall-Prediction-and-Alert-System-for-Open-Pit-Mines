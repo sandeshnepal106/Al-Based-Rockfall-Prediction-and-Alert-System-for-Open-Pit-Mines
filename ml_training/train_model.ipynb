{
 "cells": [
  {
   "cell_type": "code",
   "execution_count": 973,
   "id": "15ed7f4a",
   "metadata": {},
   "outputs": [],
   "source": [
    "import pandas as pd\n",
    "import numpy as np\n",
    "import matplotlib.pyplot as plt\n",
    "import seaborn as sns"
   ]
  },
  {
   "cell_type": "code",
   "execution_count": 974,
   "id": "bdca2960",
   "metadata": {},
   "outputs": [],
   "source": [
    "np.set_printoptions(threshold=np.inf)"
   ]
  },
  {
   "cell_type": "code",
   "execution_count": 975,
   "id": "5c66f1c4",
   "metadata": {},
   "outputs": [],
   "source": [
    "df =pd.read_csv('./yosemodiFinal_with_rockfall.csv')"
   ]
  },
  {
   "cell_type": "code",
   "execution_count": 976,
   "id": "a5b4250c",
   "metadata": {},
   "outputs": [
    {
     "data": {
      "text/html": [
       "<div>\n",
       "<style scoped>\n",
       "    .dataframe tbody tr th:only-of-type {\n",
       "        vertical-align: middle;\n",
       "    }\n",
       "\n",
       "    .dataframe tbody tr th {\n",
       "        vertical-align: top;\n",
       "    }\n",
       "\n",
       "    .dataframe thead th {\n",
       "        text-align: right;\n",
       "    }\n",
       "</style>\n",
       "<table border=\"1\" class=\"dataframe\">\n",
       "  <thead>\n",
       "    <tr style=\"text-align: right;\">\n",
       "      <th></th>\n",
       "      <th>Type of slope movement</th>\n",
       "      <th>Season</th>\n",
       "      <th>Year</th>\n",
       "      <th>Month</th>\n",
       "      <th>Day</th>\n",
       "      <th>Time (PST)</th>\n",
       "      <th>Minimum volume</th>\n",
       "      <th>Median/best estimate volume</th>\n",
       "      <th>Maximum volume</th>\n",
       "      <th>Relative size</th>\n",
       "      <th>Rock unit</th>\n",
       "      <th>Triggering condition(s)</th>\n",
       "      <th>Rockfall</th>\n",
       "    </tr>\n",
       "  </thead>\n",
       "  <tbody>\n",
       "    <tr>\n",
       "      <th>0</th>\n",
       "      <td>RF</td>\n",
       "      <td>NaN</td>\n",
       "      <td>1857</td>\n",
       "      <td>NaN</td>\n",
       "      <td>NaN</td>\n",
       "      <td>NaN</td>\n",
       "      <td>50000</td>\n",
       "      <td>200000</td>\n",
       "      <td>500000</td>\n",
       "      <td>extremely large</td>\n",
       "      <td>Kec</td>\n",
       "      <td>UKN</td>\n",
       "      <td>Yes</td>\n",
       "    </tr>\n",
       "    <tr>\n",
       "      <th>1</th>\n",
       "      <td>RF</td>\n",
       "      <td>NaN</td>\n",
       "      <td>1858</td>\n",
       "      <td>NaN</td>\n",
       "      <td>NaN</td>\n",
       "      <td>NaN</td>\n",
       "      <td>-</td>\n",
       "      <td>185000</td>\n",
       "      <td>-</td>\n",
       "      <td>extremely large</td>\n",
       "      <td>Ks/Kec</td>\n",
       "      <td>UKN</td>\n",
       "      <td>Yes</td>\n",
       "    </tr>\n",
       "    <tr>\n",
       "      <th>2</th>\n",
       "      <td>RF</td>\n",
       "      <td>Spring</td>\n",
       "      <td>1860</td>\n",
       "      <td>6</td>\n",
       "      <td>11</td>\n",
       "      <td>NaN</td>\n",
       "      <td>500</td>\n",
       "      <td>2000</td>\n",
       "      <td>5000</td>\n",
       "      <td>large</td>\n",
       "      <td>Ks/Kec</td>\n",
       "      <td>F/T</td>\n",
       "      <td>Yes</td>\n",
       "    </tr>\n",
       "    <tr>\n",
       "      <th>3</th>\n",
       "      <td>RF</td>\n",
       "      <td>Fall</td>\n",
       "      <td>1864</td>\n",
       "      <td>11</td>\n",
       "      <td>13</td>\n",
       "      <td>late pm</td>\n",
       "      <td>5000</td>\n",
       "      <td>20000</td>\n",
       "      <td>50000</td>\n",
       "      <td>very large</td>\n",
       "      <td>Ks</td>\n",
       "      <td>P</td>\n",
       "      <td>Yes</td>\n",
       "    </tr>\n",
       "    <tr>\n",
       "      <th>4</th>\n",
       "      <td>RF</td>\n",
       "      <td>NaN</td>\n",
       "      <td>1868, pre</td>\n",
       "      <td>NaN</td>\n",
       "      <td>NaN</td>\n",
       "      <td>NaN</td>\n",
       "      <td>5000</td>\n",
       "      <td>20000</td>\n",
       "      <td>50000</td>\n",
       "      <td>very large</td>\n",
       "      <td>Kec</td>\n",
       "      <td>UKN</td>\n",
       "      <td>Yes</td>\n",
       "    </tr>\n",
       "  </tbody>\n",
       "</table>\n",
       "</div>"
      ],
      "text/plain": [
       "  Type of slope movement  Season       Year Month  Day Time (PST)  \\\n",
       "0                     RF     NaN       1857   NaN  NaN        NaN   \n",
       "1                     RF     NaN       1858   NaN  NaN        NaN   \n",
       "2                     RF  Spring       1860     6   11        NaN   \n",
       "3                     RF    Fall       1864    11   13    late pm   \n",
       "4                     RF     NaN  1868, pre   NaN  NaN        NaN   \n",
       "\n",
       "  Minimum volume Median/best estimate volume Maximum volume    Relative size  \\\n",
       "0          50000                      200000         500000  extremely large   \n",
       "1              -                      185000              -  extremely large   \n",
       "2            500                        2000           5000            large   \n",
       "3           5000                       20000          50000       very large   \n",
       "4           5000                       20000          50000       very large   \n",
       "\n",
       "  Rock unit Triggering condition(s) Rockfall  \n",
       "0       Kec                     UKN      Yes  \n",
       "1    Ks/Kec                     UKN      Yes  \n",
       "2    Ks/Kec                     F/T      Yes  \n",
       "3        Ks                       P      Yes  \n",
       "4       Kec                     UKN      Yes  "
      ]
     },
     "execution_count": 976,
     "metadata": {},
     "output_type": "execute_result"
    }
   ],
   "source": [
    "df.head()"
   ]
  },
  {
   "cell_type": "code",
   "execution_count": 977,
   "id": "65f8f3d1",
   "metadata": {},
   "outputs": [],
   "source": [
    "temp_df =df.copy()"
   ]
  },
  {
   "cell_type": "code",
   "execution_count": 978,
   "id": "1c39df83",
   "metadata": {},
   "outputs": [
    {
     "data": {
      "text/plain": [
       "array([nan, 'Spring', 'Fall', 'Summer', 'Winter', 'Winter - Spring',\n",
       "       'Fall - Winter'], dtype=object)"
      ]
     },
     "execution_count": 978,
     "metadata": {},
     "output_type": "execute_result"
    }
   ],
   "source": [
    "temp_df.Season.unique()"
   ]
  },
  {
   "cell_type": "markdown",
   "id": "c28d8a6b",
   "metadata": {},
   "source": [
    "Data Cleaning"
   ]
  },
  {
   "cell_type": "code",
   "execution_count": 979,
   "id": "581cf199",
   "metadata": {},
   "outputs": [],
   "source": [
    "season_map = {\n",
    "    'Winter - Spring': 'Winter',\n",
    "    'Fall - Winter': 'Fall',\n",
    "    'Spring - Summer': 'Spring',\n",
    "    'Summer - Fall': 'Summer'\n",
    "    # Add any other combined seasons you find here\n",
    "}\n",
    "\n",
    "# Use the .replace() method with the dictionary. This works directly on the column.\n",
    "temp_df['Season'] = temp_df['Season'].replace(season_map)\n"
   ]
  },
  {
   "cell_type": "code",
   "execution_count": 980,
   "id": "0060ae55",
   "metadata": {},
   "outputs": [
    {
     "data": {
      "text/plain": [
       "array([nan, 'Spring', 'Fall', 'Summer', 'Winter'], dtype=object)"
      ]
     },
     "execution_count": 980,
     "metadata": {},
     "output_type": "execute_result"
    }
   ],
   "source": [
    "temp_df.Season.unique()"
   ]
  },
  {
   "cell_type": "code",
   "execution_count": 981,
   "id": "64540d3d",
   "metadata": {},
   "outputs": [
    {
     "data": {
      "text/plain": [
       "Type of slope movement           0\n",
       "Season                          15\n",
       "Year                             0\n",
       "Month                           78\n",
       "Day                            231\n",
       "Time (PST)                     409\n",
       "Minimum volume                   0\n",
       "Median/best estimate volume      0\n",
       "Maximum volume                   0\n",
       "Relative size                    0\n",
       "Rock unit                       27\n",
       "Triggering condition(s)          0\n",
       "Rockfall                         0\n",
       "dtype: int64"
      ]
     },
     "execution_count": 981,
     "metadata": {},
     "output_type": "execute_result"
    }
   ],
   "source": [
    "temp_df.isnull().sum()"
   ]
  },
  {
   "cell_type": "code",
   "execution_count": 982,
   "id": "e7810184",
   "metadata": {},
   "outputs": [],
   "source": [
    "temp_df['Season'] =temp_df['Season'].fillna(df['Season'].mode())"
   ]
  },
  {
   "cell_type": "code",
   "execution_count": 983,
   "id": "6ea2a99f",
   "metadata": {},
   "outputs": [
    {
     "data": {
      "text/plain": [
       "Type of slope movement           0\n",
       "Season                          14\n",
       "Year                             0\n",
       "Month                           78\n",
       "Day                            231\n",
       "Time (PST)                     409\n",
       "Minimum volume                   0\n",
       "Median/best estimate volume      0\n",
       "Maximum volume                   0\n",
       "Relative size                    0\n",
       "Rock unit                       27\n",
       "Triggering condition(s)          0\n",
       "Rockfall                         0\n",
       "dtype: int64"
      ]
     },
     "execution_count": 983,
     "metadata": {},
     "output_type": "execute_result"
    }
   ],
   "source": [
    "temp_df.isnull().sum()"
   ]
  },
  {
   "cell_type": "code",
   "execution_count": 984,
   "id": "80f8027f",
   "metadata": {},
   "outputs": [
    {
     "name": "stdout",
     "output_type": "stream",
     "text": [
      "<class 'pandas.core.frame.DataFrame'>\n",
      "RangeIndex: 925 entries, 0 to 924\n",
      "Data columns (total 13 columns):\n",
      " #   Column                       Non-Null Count  Dtype \n",
      "---  ------                       --------------  ----- \n",
      " 0   Type of slope movement       925 non-null    object\n",
      " 1   Season                       911 non-null    object\n",
      " 2   Year                         925 non-null    object\n",
      " 3   Month                        847 non-null    object\n",
      " 4   Day                          694 non-null    object\n",
      " 5   Time (PST)                   516 non-null    object\n",
      " 6   Minimum volume               925 non-null    object\n",
      " 7   Median/best estimate volume  925 non-null    object\n",
      " 8   Maximum volume               925 non-null    object\n",
      " 9   Relative size                925 non-null    object\n",
      " 10  Rock unit                    898 non-null    object\n",
      " 11  Triggering condition(s)      925 non-null    object\n",
      " 12  Rockfall                     925 non-null    object\n",
      "dtypes: object(13)\n",
      "memory usage: 94.1+ KB\n"
     ]
    }
   ],
   "source": [
    "temp_df.info()"
   ]
  },
  {
   "cell_type": "code",
   "execution_count": 985,
   "id": "7e83b432",
   "metadata": {},
   "outputs": [],
   "source": [
    "columns_to_drop = ['Day', 'Month', 'Time (PST)', 'Year']\n",
    "temp_df.drop(columns=columns_to_drop, inplace=True)"
   ]
  },
  {
   "cell_type": "code",
   "execution_count": 986,
   "id": "b3bd273b",
   "metadata": {},
   "outputs": [
    {
     "name": "stdout",
     "output_type": "stream",
     "text": [
      "<class 'pandas.core.frame.DataFrame'>\n",
      "RangeIndex: 925 entries, 0 to 924\n",
      "Data columns (total 9 columns):\n",
      " #   Column                       Non-Null Count  Dtype \n",
      "---  ------                       --------------  ----- \n",
      " 0   Type of slope movement       925 non-null    object\n",
      " 1   Season                       911 non-null    object\n",
      " 2   Minimum volume               925 non-null    object\n",
      " 3   Median/best estimate volume  925 non-null    object\n",
      " 4   Maximum volume               925 non-null    object\n",
      " 5   Relative size                925 non-null    object\n",
      " 6   Rock unit                    898 non-null    object\n",
      " 7   Triggering condition(s)      925 non-null    object\n",
      " 8   Rockfall                     925 non-null    object\n",
      "dtypes: object(9)\n",
      "memory usage: 65.2+ KB\n"
     ]
    }
   ],
   "source": [
    "temp_df.info()"
   ]
  },
  {
   "cell_type": "code",
   "execution_count": 987,
   "id": "87a51b83",
   "metadata": {},
   "outputs": [
    {
     "data": {
      "text/plain": [
       "Type of slope movement          0\n",
       "Season                         14\n",
       "Minimum volume                  0\n",
       "Median/best estimate volume     0\n",
       "Maximum volume                  0\n",
       "Relative size                   0\n",
       "Rock unit                      27\n",
       "Triggering condition(s)         0\n",
       "Rockfall                        0\n",
       "dtype: int64"
      ]
     },
     "execution_count": 987,
     "metadata": {},
     "output_type": "execute_result"
    }
   ],
   "source": [
    "temp_df.isnull().sum()"
   ]
  },
  {
   "cell_type": "code",
   "execution_count": 988,
   "id": "ff0af648",
   "metadata": {},
   "outputs": [
    {
     "data": {
      "text/plain": [
       "array(['Kec', 'Ks/Kec', 'Ks', 'Khd', 'Kgp', 'Qat', 'Kga', 'Kgp/Kec',\n",
       "       'Kec/Kdg', 'Ka/Kga', 'Kg/Kec', nan, 'Khd/Kgp ', 'Kg', 'Kid/Kec',\n",
       "       'Kdg', 'Ka', 'Krm', 'Pzme / Kga', 'Kga/Kec', 'Kec/Ks', 'Kgp/Ks',\n",
       "       'Kyc / Kec', 'Kgi / Kg', 'Kt', 'Kyc/Kec', 'Kic', 'Kcp', 'Klt',\n",
       "       'Kid', 'Kec/Kid', 'Ks/Pzme', 'Kec/Kbv', 'Pzme/Kga', 'Kbv', 'Pzme',\n",
       "       'Kjdg', 'Krd', 'Klt/Kbv', 'Kec/Kt', 'Ktf'], dtype=object)"
      ]
     },
     "execution_count": 988,
     "metadata": {},
     "output_type": "execute_result"
    }
   ],
   "source": [
    "temp_df['Rock unit'].unique()"
   ]
  },
  {
   "cell_type": "code",
   "execution_count": 989,
   "id": "eb016aec",
   "metadata": {},
   "outputs": [],
   "source": [
    "rock_units_to_keep = [\n",
    "    'Kec', 'Ks', 'Khd', 'Kgp', 'Qat', 'Kga', 'Kdg', 'Ka', 'Krm', 'Kt',\n",
    "    'Kic', 'Kcp', 'Klt', 'Kid', 'Kbv', 'Pzme', 'Kjdg', 'Krd', 'Ktf', 'Kg'\n",
    "]\n",
    "temp_df = temp_df[temp_df['Rock unit'].isin(rock_units_to_keep)]"
   ]
  },
  {
   "cell_type": "code",
   "execution_count": 990,
   "id": "a173df16",
   "metadata": {},
   "outputs": [
    {
     "data": {
      "text/plain": [
       "array(['Kec', 'Ks', 'Khd', 'Kgp', 'Qat', 'Kga', 'Kg', 'Kdg', 'Ka', 'Krm',\n",
       "       'Kt', 'Kic', 'Kcp', 'Klt', 'Kid', 'Kbv', 'Pzme', 'Kjdg', 'Krd',\n",
       "       'Ktf'], dtype=object)"
      ]
     },
     "execution_count": 990,
     "metadata": {},
     "output_type": "execute_result"
    }
   ],
   "source": [
    "temp_df['Rock unit'].unique()"
   ]
  },
  {
   "cell_type": "code",
   "execution_count": 991,
   "id": "a139348f",
   "metadata": {},
   "outputs": [
    {
     "data": {
      "text/plain": [
       "Type of slope movement          0\n",
       "Season                         12\n",
       "Minimum volume                  0\n",
       "Median/best estimate volume     0\n",
       "Maximum volume                  0\n",
       "Relative size                   0\n",
       "Rock unit                       0\n",
       "Triggering condition(s)         0\n",
       "Rockfall                        0\n",
       "dtype: int64"
      ]
     },
     "execution_count": 991,
     "metadata": {},
     "output_type": "execute_result"
    }
   ],
   "source": [
    "temp_df.isnull().sum()"
   ]
  },
  {
   "cell_type": "code",
   "execution_count": 992,
   "id": "bb01e4ee",
   "metadata": {},
   "outputs": [
    {
     "name": "stderr",
     "output_type": "stream",
     "text": [
      "C:\\Users\\arunc\\AppData\\Local\\Temp\\ipykernel_31448\\2770787849.py:1: FutureWarning: A value is trying to be set on a copy of a DataFrame or Series through chained assignment using an inplace method.\n",
      "The behavior will change in pandas 3.0. This inplace method will never work because the intermediate object on which we are setting values always behaves as a copy.\n",
      "\n",
      "For example, when doing 'df[col].method(value, inplace=True)', try using 'df.method({col: value}, inplace=True)' or df[col] = df[col].method(value) instead, to perform the operation inplace on the original object.\n",
      "\n",
      "\n",
      "  temp_df['Season'].fillna(temp_df['Season'].mode(),inplace=True)\n"
     ]
    }
   ],
   "source": [
    "temp_df['Season'].fillna(temp_df['Season'].mode(),inplace=True)"
   ]
  },
  {
   "cell_type": "code",
   "execution_count": 993,
   "id": "e4954b53",
   "metadata": {},
   "outputs": [
    {
     "data": {
      "text/plain": [
       "array(['RF', 'RS', 'DS', 'DF', 'DF/DS', 'RS/DS', 'DSL', 'ESL', 'RS/RF',\n",
       "       'RF/RS', 'RF/DS', 'SA', 'RS/ES'], dtype=object)"
      ]
     },
     "execution_count": 993,
     "metadata": {},
     "output_type": "execute_result"
    }
   ],
   "source": [
    "temp_df['Type of slope movement'].unique()"
   ]
  },
  {
   "cell_type": "code",
   "execution_count": 994,
   "id": "79b312d1",
   "metadata": {},
   "outputs": [
    {
     "data": {
      "text/html": [
       "<div>\n",
       "<style scoped>\n",
       "    .dataframe tbody tr th:only-of-type {\n",
       "        vertical-align: middle;\n",
       "    }\n",
       "\n",
       "    .dataframe tbody tr th {\n",
       "        vertical-align: top;\n",
       "    }\n",
       "\n",
       "    .dataframe thead th {\n",
       "        text-align: right;\n",
       "    }\n",
       "</style>\n",
       "<table border=\"1\" class=\"dataframe\">\n",
       "  <thead>\n",
       "    <tr style=\"text-align: right;\">\n",
       "      <th></th>\n",
       "      <th>Type of slope movement</th>\n",
       "      <th>Season</th>\n",
       "      <th>Minimum volume</th>\n",
       "      <th>Median/best estimate volume</th>\n",
       "      <th>Maximum volume</th>\n",
       "      <th>Relative size</th>\n",
       "      <th>Rock unit</th>\n",
       "      <th>Triggering condition(s)</th>\n",
       "      <th>Rockfall</th>\n",
       "    </tr>\n",
       "  </thead>\n",
       "  <tbody>\n",
       "    <tr>\n",
       "      <th>0</th>\n",
       "      <td>RF</td>\n",
       "      <td>Winter</td>\n",
       "      <td>50000</td>\n",
       "      <td>200000</td>\n",
       "      <td>500000</td>\n",
       "      <td>extremely large</td>\n",
       "      <td>Kec</td>\n",
       "      <td>UKN</td>\n",
       "      <td>Yes</td>\n",
       "    </tr>\n",
       "    <tr>\n",
       "      <th>3</th>\n",
       "      <td>RF</td>\n",
       "      <td>Fall</td>\n",
       "      <td>5000</td>\n",
       "      <td>20000</td>\n",
       "      <td>50000</td>\n",
       "      <td>very large</td>\n",
       "      <td>Ks</td>\n",
       "      <td>P</td>\n",
       "      <td>Yes</td>\n",
       "    </tr>\n",
       "    <tr>\n",
       "      <th>4</th>\n",
       "      <td>RF</td>\n",
       "      <td>NaN</td>\n",
       "      <td>5000</td>\n",
       "      <td>20000</td>\n",
       "      <td>50000</td>\n",
       "      <td>very large</td>\n",
       "      <td>Kec</td>\n",
       "      <td>UKN</td>\n",
       "      <td>Yes</td>\n",
       "    </tr>\n",
       "    <tr>\n",
       "      <th>5</th>\n",
       "      <td>RF</td>\n",
       "      <td>Summer</td>\n",
       "      <td>-</td>\n",
       "      <td>70</td>\n",
       "      <td>-</td>\n",
       "      <td>medium</td>\n",
       "      <td>Khd</td>\n",
       "      <td>L</td>\n",
       "      <td>Yes</td>\n",
       "    </tr>\n",
       "    <tr>\n",
       "      <th>6</th>\n",
       "      <td>RF</td>\n",
       "      <td>Summer</td>\n",
       "      <td>5000</td>\n",
       "      <td>20000</td>\n",
       "      <td>50000</td>\n",
       "      <td>very large</td>\n",
       "      <td>Kgp</td>\n",
       "      <td>UNR</td>\n",
       "      <td>Yes</td>\n",
       "    </tr>\n",
       "  </tbody>\n",
       "</table>\n",
       "</div>"
      ],
      "text/plain": [
       "  Type of slope movement  Season Minimum volume Median/best estimate volume  \\\n",
       "0                     RF  Winter          50000                      200000   \n",
       "3                     RF    Fall           5000                       20000   \n",
       "4                     RF     NaN           5000                       20000   \n",
       "5                     RF  Summer              -                          70   \n",
       "6                     RF  Summer           5000                       20000   \n",
       "\n",
       "  Maximum volume    Relative size Rock unit Triggering condition(s) Rockfall  \n",
       "0         500000  extremely large       Kec                     UKN      Yes  \n",
       "3          50000       very large        Ks                       P      Yes  \n",
       "4          50000       very large       Kec                     UKN      Yes  \n",
       "5              -           medium       Khd                       L      Yes  \n",
       "6          50000       very large       Kgp                     UNR      Yes  "
      ]
     },
     "execution_count": 994,
     "metadata": {},
     "output_type": "execute_result"
    }
   ],
   "source": [
    "temp_df.head()"
   ]
  },
  {
   "cell_type": "code",
   "execution_count": null,
   "id": "a58706fe",
   "metadata": {},
   "outputs": [],
   "source": []
  },
  {
   "cell_type": "code",
   "execution_count": 995,
   "id": "edb07ea9",
   "metadata": {},
   "outputs": [
    {
     "data": {
      "text/html": [
       "<div>\n",
       "<style scoped>\n",
       "    .dataframe tbody tr th:only-of-type {\n",
       "        vertical-align: middle;\n",
       "    }\n",
       "\n",
       "    .dataframe tbody tr th {\n",
       "        vertical-align: top;\n",
       "    }\n",
       "\n",
       "    .dataframe thead th {\n",
       "        text-align: right;\n",
       "    }\n",
       "</style>\n",
       "<table border=\"1\" class=\"dataframe\">\n",
       "  <thead>\n",
       "    <tr style=\"text-align: right;\">\n",
       "      <th></th>\n",
       "      <th>Type of slope movement</th>\n",
       "      <th>Season</th>\n",
       "      <th>Minimum volume</th>\n",
       "      <th>Median/best estimate volume</th>\n",
       "      <th>Maximum volume</th>\n",
       "      <th>Relative size</th>\n",
       "      <th>Rock unit</th>\n",
       "      <th>Triggering condition(s)</th>\n",
       "      <th>Rockfall</th>\n",
       "    </tr>\n",
       "  </thead>\n",
       "  <tbody>\n",
       "    <tr>\n",
       "      <th>10</th>\n",
       "      <td>RF</td>\n",
       "      <td>Spring</td>\n",
       "      <td>500</td>\n",
       "      <td>2000</td>\n",
       "      <td>5000</td>\n",
       "      <td>large</td>\n",
       "      <td>Ks</td>\n",
       "      <td>EQ</td>\n",
       "      <td>Yes</td>\n",
       "    </tr>\n",
       "    <tr>\n",
       "      <th>40</th>\n",
       "      <td>DS</td>\n",
       "      <td>Spring</td>\n",
       "      <td>5</td>\n",
       "      <td>20</td>\n",
       "      <td>50</td>\n",
       "      <td>small</td>\n",
       "      <td>Qat</td>\n",
       "      <td>P</td>\n",
       "      <td>No</td>\n",
       "    </tr>\n",
       "    <tr>\n",
       "      <th>48</th>\n",
       "      <td>DF</td>\n",
       "      <td>Winter</td>\n",
       "      <td>5</td>\n",
       "      <td>20</td>\n",
       "      <td>50</td>\n",
       "      <td>small</td>\n",
       "      <td>Qat</td>\n",
       "      <td>P</td>\n",
       "      <td>No</td>\n",
       "    </tr>\n",
       "    <tr>\n",
       "      <th>60</th>\n",
       "      <td>DS</td>\n",
       "      <td>Spring</td>\n",
       "      <td>5</td>\n",
       "      <td>20</td>\n",
       "      <td>50</td>\n",
       "      <td>small</td>\n",
       "      <td>Qat</td>\n",
       "      <td>P</td>\n",
       "      <td>No</td>\n",
       "    </tr>\n",
       "    <tr>\n",
       "      <th>78</th>\n",
       "      <td>RS</td>\n",
       "      <td>Winter</td>\n",
       "      <td>5</td>\n",
       "      <td>20</td>\n",
       "      <td>50</td>\n",
       "      <td>small</td>\n",
       "      <td>Khd</td>\n",
       "      <td>P</td>\n",
       "      <td>No</td>\n",
       "    </tr>\n",
       "    <tr>\n",
       "      <th>...</th>\n",
       "      <td>...</td>\n",
       "      <td>...</td>\n",
       "      <td>...</td>\n",
       "      <td>...</td>\n",
       "      <td>...</td>\n",
       "      <td>...</td>\n",
       "      <td>...</td>\n",
       "      <td>...</td>\n",
       "      <td>...</td>\n",
       "    </tr>\n",
       "    <tr>\n",
       "      <th>885</th>\n",
       "      <td>RF</td>\n",
       "      <td>Spring</td>\n",
       "      <td>5</td>\n",
       "      <td>20</td>\n",
       "      <td>50</td>\n",
       "      <td>small</td>\n",
       "      <td>Khd</td>\n",
       "      <td>UNR</td>\n",
       "      <td>Yes</td>\n",
       "    </tr>\n",
       "    <tr>\n",
       "      <th>907</th>\n",
       "      <td>RF</td>\n",
       "      <td>Fall</td>\n",
       "      <td>5</td>\n",
       "      <td>20</td>\n",
       "      <td>50</td>\n",
       "      <td>small</td>\n",
       "      <td>Khd</td>\n",
       "      <td>P</td>\n",
       "      <td>Yes</td>\n",
       "    </tr>\n",
       "    <tr>\n",
       "      <th>910</th>\n",
       "      <td>RF</td>\n",
       "      <td>Fall</td>\n",
       "      <td>0.5</td>\n",
       "      <td>2</td>\n",
       "      <td>5</td>\n",
       "      <td>very small</td>\n",
       "      <td>Khd</td>\n",
       "      <td>UNR</td>\n",
       "      <td>Yes</td>\n",
       "    </tr>\n",
       "    <tr>\n",
       "      <th>913</th>\n",
       "      <td>RF</td>\n",
       "      <td>Fall</td>\n",
       "      <td>0.5</td>\n",
       "      <td>2</td>\n",
       "      <td>5</td>\n",
       "      <td>very small</td>\n",
       "      <td>Kec</td>\n",
       "      <td>UNR</td>\n",
       "      <td>Yes</td>\n",
       "    </tr>\n",
       "    <tr>\n",
       "      <th>914</th>\n",
       "      <td>RF</td>\n",
       "      <td>Fall</td>\n",
       "      <td>-</td>\n",
       "      <td>20</td>\n",
       "      <td>-</td>\n",
       "      <td>small</td>\n",
       "      <td>Kec</td>\n",
       "      <td>UNR</td>\n",
       "      <td>Yes</td>\n",
       "    </tr>\n",
       "  </tbody>\n",
       "</table>\n",
       "<p>116 rows × 9 columns</p>\n",
       "</div>"
      ],
      "text/plain": [
       "    Type of slope movement  Season Minimum volume Median/best estimate volume  \\\n",
       "10                      RF  Spring            500                        2000   \n",
       "40                      DS  Spring              5                          20   \n",
       "48                      DF  Winter              5                          20   \n",
       "60                      DS  Spring              5                          20   \n",
       "78                      RS  Winter              5                          20   \n",
       "..                     ...     ...            ...                         ...   \n",
       "885                     RF  Spring              5                          20   \n",
       "907                     RF    Fall              5                          20   \n",
       "910                     RF    Fall            0.5                           2   \n",
       "913                     RF    Fall            0.5                           2   \n",
       "914                     RF    Fall              -                          20   \n",
       "\n",
       "    Maximum volume Relative size Rock unit Triggering condition(s) Rockfall  \n",
       "10            5000         large        Ks                      EQ      Yes  \n",
       "40              50         small       Qat                       P       No  \n",
       "48              50         small       Qat                       P       No  \n",
       "60              50         small       Qat                       P       No  \n",
       "78              50         small       Khd                       P       No  \n",
       "..             ...           ...       ...                     ...      ...  \n",
       "885             50         small       Khd                     UNR      Yes  \n",
       "907             50         small       Khd                       P      Yes  \n",
       "910              5    very small       Khd                     UNR      Yes  \n",
       "913              5    very small       Kec                     UNR      Yes  \n",
       "914              -         small       Kec                     UNR      Yes  \n",
       "\n",
       "[116 rows x 9 columns]"
      ]
     },
     "execution_count": 995,
     "metadata": {},
     "output_type": "execute_result"
    }
   ],
   "source": [
    "temp_df[temp_df.duplicated()]"
   ]
  },
  {
   "cell_type": "code",
   "execution_count": 996,
   "id": "db133c34",
   "metadata": {},
   "outputs": [],
   "source": [
    "temp_df.drop_duplicates(inplace=True)"
   ]
  },
  {
   "cell_type": "code",
   "execution_count": 997,
   "id": "7bbb42af",
   "metadata": {},
   "outputs": [
    {
     "data": {
      "text/plain": [
       "Type of slope movement          0\n",
       "Season                         12\n",
       "Minimum volume                  0\n",
       "Median/best estimate volume     0\n",
       "Maximum volume                  0\n",
       "Relative size                   0\n",
       "Rock unit                       0\n",
       "Triggering condition(s)         0\n",
       "Rockfall                        0\n",
       "dtype: int64"
      ]
     },
     "execution_count": 997,
     "metadata": {},
     "output_type": "execute_result"
    }
   ],
   "source": [
    "temp_df.isnull().sum()"
   ]
  },
  {
   "cell_type": "code",
   "execution_count": 998,
   "id": "c11b2dbd",
   "metadata": {},
   "outputs": [],
   "source": [
    "temp_df['Season'].dropna(inplace=True)"
   ]
  },
  {
   "cell_type": "code",
   "execution_count": 999,
   "id": "42f37cae",
   "metadata": {},
   "outputs": [
    {
     "data": {
      "text/plain": [
       "Type of slope movement          0\n",
       "Season                         12\n",
       "Minimum volume                  0\n",
       "Median/best estimate volume     0\n",
       "Maximum volume                  0\n",
       "Relative size                   0\n",
       "Rock unit                       0\n",
       "Triggering condition(s)         0\n",
       "Rockfall                        0\n",
       "dtype: int64"
      ]
     },
     "execution_count": 999,
     "metadata": {},
     "output_type": "execute_result"
    }
   ],
   "source": [
    "temp_df.isnull().sum()"
   ]
  },
  {
   "cell_type": "markdown",
   "id": "dc7aea57",
   "metadata": {},
   "source": [
    "Feature Engineering"
   ]
  },
  {
   "cell_type": "code",
   "execution_count": 1000,
   "id": "b0624f38",
   "metadata": {},
   "outputs": [
    {
     "data": {
      "text/html": [
       "<div>\n",
       "<style scoped>\n",
       "    .dataframe tbody tr th:only-of-type {\n",
       "        vertical-align: middle;\n",
       "    }\n",
       "\n",
       "    .dataframe tbody tr th {\n",
       "        vertical-align: top;\n",
       "    }\n",
       "\n",
       "    .dataframe thead th {\n",
       "        text-align: right;\n",
       "    }\n",
       "</style>\n",
       "<table border=\"1\" class=\"dataframe\">\n",
       "  <thead>\n",
       "    <tr style=\"text-align: right;\">\n",
       "      <th></th>\n",
       "      <th>Type of slope movement</th>\n",
       "      <th>Season</th>\n",
       "      <th>Minimum volume</th>\n",
       "      <th>Median/best estimate volume</th>\n",
       "      <th>Maximum volume</th>\n",
       "      <th>Relative size</th>\n",
       "      <th>Rock unit</th>\n",
       "      <th>Triggering condition(s)</th>\n",
       "      <th>Rockfall</th>\n",
       "    </tr>\n",
       "  </thead>\n",
       "  <tbody>\n",
       "    <tr>\n",
       "      <th>0</th>\n",
       "      <td>RF</td>\n",
       "      <td>Winter</td>\n",
       "      <td>50000</td>\n",
       "      <td>200000</td>\n",
       "      <td>500000</td>\n",
       "      <td>extremely large</td>\n",
       "      <td>Kec</td>\n",
       "      <td>UKN</td>\n",
       "      <td>Yes</td>\n",
       "    </tr>\n",
       "    <tr>\n",
       "      <th>3</th>\n",
       "      <td>RF</td>\n",
       "      <td>Fall</td>\n",
       "      <td>5000</td>\n",
       "      <td>20000</td>\n",
       "      <td>50000</td>\n",
       "      <td>very large</td>\n",
       "      <td>Ks</td>\n",
       "      <td>P</td>\n",
       "      <td>Yes</td>\n",
       "    </tr>\n",
       "    <tr>\n",
       "      <th>4</th>\n",
       "      <td>RF</td>\n",
       "      <td>NaN</td>\n",
       "      <td>5000</td>\n",
       "      <td>20000</td>\n",
       "      <td>50000</td>\n",
       "      <td>very large</td>\n",
       "      <td>Kec</td>\n",
       "      <td>UKN</td>\n",
       "      <td>Yes</td>\n",
       "    </tr>\n",
       "    <tr>\n",
       "      <th>5</th>\n",
       "      <td>RF</td>\n",
       "      <td>Summer</td>\n",
       "      <td>-</td>\n",
       "      <td>70</td>\n",
       "      <td>-</td>\n",
       "      <td>medium</td>\n",
       "      <td>Khd</td>\n",
       "      <td>L</td>\n",
       "      <td>Yes</td>\n",
       "    </tr>\n",
       "    <tr>\n",
       "      <th>6</th>\n",
       "      <td>RF</td>\n",
       "      <td>Summer</td>\n",
       "      <td>5000</td>\n",
       "      <td>20000</td>\n",
       "      <td>50000</td>\n",
       "      <td>very large</td>\n",
       "      <td>Kgp</td>\n",
       "      <td>UNR</td>\n",
       "      <td>Yes</td>\n",
       "    </tr>\n",
       "  </tbody>\n",
       "</table>\n",
       "</div>"
      ],
      "text/plain": [
       "  Type of slope movement  Season Minimum volume Median/best estimate volume  \\\n",
       "0                     RF  Winter          50000                      200000   \n",
       "3                     RF    Fall           5000                       20000   \n",
       "4                     RF     NaN           5000                       20000   \n",
       "5                     RF  Summer              -                          70   \n",
       "6                     RF  Summer           5000                       20000   \n",
       "\n",
       "  Maximum volume    Relative size Rock unit Triggering condition(s) Rockfall  \n",
       "0         500000  extremely large       Kec                     UKN      Yes  \n",
       "3          50000       very large        Ks                       P      Yes  \n",
       "4          50000       very large       Kec                     UKN      Yes  \n",
       "5              -           medium       Khd                       L      Yes  \n",
       "6          50000       very large       Kgp                     UNR      Yes  "
      ]
     },
     "execution_count": 1000,
     "metadata": {},
     "output_type": "execute_result"
    }
   ],
   "source": [
    "temp_df.head()"
   ]
  },
  {
   "cell_type": "code",
   "execution_count": 1001,
   "id": "4d8f0e9f",
   "metadata": {},
   "outputs": [
    {
     "data": {
      "text/html": [
       "<div>\n",
       "<style scoped>\n",
       "    .dataframe tbody tr th:only-of-type {\n",
       "        vertical-align: middle;\n",
       "    }\n",
       "\n",
       "    .dataframe tbody tr th {\n",
       "        vertical-align: top;\n",
       "    }\n",
       "\n",
       "    .dataframe thead th {\n",
       "        text-align: right;\n",
       "    }\n",
       "</style>\n",
       "<table border=\"1\" class=\"dataframe\">\n",
       "  <thead>\n",
       "    <tr style=\"text-align: right;\">\n",
       "      <th></th>\n",
       "      <th>Type of slope movement</th>\n",
       "      <th>Season</th>\n",
       "      <th>Minimum volume</th>\n",
       "      <th>Median/best estimate volume</th>\n",
       "      <th>Maximum volume</th>\n",
       "      <th>Relative size</th>\n",
       "      <th>Rock unit</th>\n",
       "      <th>Triggering condition(s)</th>\n",
       "      <th>Rockfall</th>\n",
       "    </tr>\n",
       "  </thead>\n",
       "  <tbody>\n",
       "    <tr>\n",
       "      <th>0</th>\n",
       "      <td>RF</td>\n",
       "      <td>Winter</td>\n",
       "      <td>50000</td>\n",
       "      <td>200000</td>\n",
       "      <td>500000</td>\n",
       "      <td>extremely large</td>\n",
       "      <td>Kec</td>\n",
       "      <td>UKN</td>\n",
       "      <td>Yes</td>\n",
       "    </tr>\n",
       "    <tr>\n",
       "      <th>3</th>\n",
       "      <td>RF</td>\n",
       "      <td>Fall</td>\n",
       "      <td>5000</td>\n",
       "      <td>20000</td>\n",
       "      <td>50000</td>\n",
       "      <td>very large</td>\n",
       "      <td>Ks</td>\n",
       "      <td>P</td>\n",
       "      <td>Yes</td>\n",
       "    </tr>\n",
       "    <tr>\n",
       "      <th>4</th>\n",
       "      <td>RF</td>\n",
       "      <td>NaN</td>\n",
       "      <td>5000</td>\n",
       "      <td>20000</td>\n",
       "      <td>50000</td>\n",
       "      <td>very large</td>\n",
       "      <td>Kec</td>\n",
       "      <td>UKN</td>\n",
       "      <td>Yes</td>\n",
       "    </tr>\n",
       "    <tr>\n",
       "      <th>5</th>\n",
       "      <td>RF</td>\n",
       "      <td>Summer</td>\n",
       "      <td>-</td>\n",
       "      <td>70</td>\n",
       "      <td>-</td>\n",
       "      <td>medium</td>\n",
       "      <td>Khd</td>\n",
       "      <td>L</td>\n",
       "      <td>Yes</td>\n",
       "    </tr>\n",
       "    <tr>\n",
       "      <th>6</th>\n",
       "      <td>RF</td>\n",
       "      <td>Summer</td>\n",
       "      <td>5000</td>\n",
       "      <td>20000</td>\n",
       "      <td>50000</td>\n",
       "      <td>very large</td>\n",
       "      <td>Kgp</td>\n",
       "      <td>UNR</td>\n",
       "      <td>Yes</td>\n",
       "    </tr>\n",
       "  </tbody>\n",
       "</table>\n",
       "</div>"
      ],
      "text/plain": [
       "  Type of slope movement  Season Minimum volume Median/best estimate volume  \\\n",
       "0                     RF  Winter          50000                      200000   \n",
       "3                     RF    Fall           5000                       20000   \n",
       "4                     RF     NaN           5000                       20000   \n",
       "5                     RF  Summer              -                          70   \n",
       "6                     RF  Summer           5000                       20000   \n",
       "\n",
       "  Maximum volume    Relative size Rock unit Triggering condition(s) Rockfall  \n",
       "0         500000  extremely large       Kec                     UKN      Yes  \n",
       "3          50000       very large        Ks                       P      Yes  \n",
       "4          50000       very large       Kec                     UKN      Yes  \n",
       "5              -           medium       Khd                       L      Yes  \n",
       "6          50000       very large       Kgp                     UNR      Yes  "
      ]
     },
     "execution_count": 1001,
     "metadata": {},
     "output_type": "execute_result"
    }
   ],
   "source": [
    "temp_df.head()"
   ]
  },
  {
   "cell_type": "code",
   "execution_count": 1002,
   "id": "b897c2a8",
   "metadata": {},
   "outputs": [
    {
     "name": "stdout",
     "output_type": "stream",
     "text": [
      "\n",
      "--- Adding Simulated 'slope_angle_degrees' Feature ---\n"
     ]
    }
   ],
   "source": [
    "print(\"\\n--- Adding Simulated 'slope_angle_degrees' Feature ---\")\n",
    "min_slope = 45\n",
    "most_common_slope = 75\n",
    "max_slope = 90\n",
    "number_of_rows = len(temp_df)\n",
    "\n",
    "# Generate the random slope values\n",
    "simulated_slopes = np.random.triangular(min_slope, most_common_slope, max_slope, number_of_rows)\n",
    "\n",
    "# Add the new feature to the DataFrame, rounded to one decimal place\n",
    "temp_df['slope_angle_degrees'] = np.round(simulated_slopes, 1)"
   ]
  },
  {
   "cell_type": "code",
   "execution_count": 1003,
   "id": "11fbb4d7",
   "metadata": {},
   "outputs": [
    {
     "name": "stdout",
     "output_type": "stream",
     "text": [
      "<class 'pandas.core.frame.DataFrame'>\n",
      "Index: 641 entries, 0 to 924\n",
      "Data columns (total 10 columns):\n",
      " #   Column                       Non-Null Count  Dtype  \n",
      "---  ------                       --------------  -----  \n",
      " 0   Type of slope movement       641 non-null    object \n",
      " 1   Season                       629 non-null    object \n",
      " 2   Minimum volume               641 non-null    object \n",
      " 3   Median/best estimate volume  641 non-null    object \n",
      " 4   Maximum volume               641 non-null    object \n",
      " 5   Relative size                641 non-null    object \n",
      " 6   Rock unit                    641 non-null    object \n",
      " 7   Triggering condition(s)      641 non-null    object \n",
      " 8   Rockfall                     641 non-null    object \n",
      " 9   slope_angle_degrees          641 non-null    float64\n",
      "dtypes: float64(1), object(9)\n",
      "memory usage: 55.1+ KB\n"
     ]
    }
   ],
   "source": [
    "temp_df.info()"
   ]
  },
  {
   "cell_type": "code",
   "execution_count": 1004,
   "id": "d015a975",
   "metadata": {},
   "outputs": [
    {
     "data": {
      "text/html": [
       "<div>\n",
       "<style scoped>\n",
       "    .dataframe tbody tr th:only-of-type {\n",
       "        vertical-align: middle;\n",
       "    }\n",
       "\n",
       "    .dataframe tbody tr th {\n",
       "        vertical-align: top;\n",
       "    }\n",
       "\n",
       "    .dataframe thead th {\n",
       "        text-align: right;\n",
       "    }\n",
       "</style>\n",
       "<table border=\"1\" class=\"dataframe\">\n",
       "  <thead>\n",
       "    <tr style=\"text-align: right;\">\n",
       "      <th></th>\n",
       "      <th>Type of slope movement</th>\n",
       "      <th>Season</th>\n",
       "      <th>Minimum volume</th>\n",
       "      <th>Median/best estimate volume</th>\n",
       "      <th>Maximum volume</th>\n",
       "      <th>Relative size</th>\n",
       "      <th>Rock unit</th>\n",
       "      <th>Triggering condition(s)</th>\n",
       "      <th>Rockfall</th>\n",
       "      <th>slope_angle_degrees</th>\n",
       "    </tr>\n",
       "  </thead>\n",
       "  <tbody>\n",
       "    <tr>\n",
       "      <th>0</th>\n",
       "      <td>RF</td>\n",
       "      <td>Winter</td>\n",
       "      <td>50000</td>\n",
       "      <td>200000</td>\n",
       "      <td>500000</td>\n",
       "      <td>extremely large</td>\n",
       "      <td>Kec</td>\n",
       "      <td>UKN</td>\n",
       "      <td>Yes</td>\n",
       "      <td>69.0</td>\n",
       "    </tr>\n",
       "    <tr>\n",
       "      <th>3</th>\n",
       "      <td>RF</td>\n",
       "      <td>Fall</td>\n",
       "      <td>5000</td>\n",
       "      <td>20000</td>\n",
       "      <td>50000</td>\n",
       "      <td>very large</td>\n",
       "      <td>Ks</td>\n",
       "      <td>P</td>\n",
       "      <td>Yes</td>\n",
       "      <td>61.3</td>\n",
       "    </tr>\n",
       "    <tr>\n",
       "      <th>4</th>\n",
       "      <td>RF</td>\n",
       "      <td>NaN</td>\n",
       "      <td>5000</td>\n",
       "      <td>20000</td>\n",
       "      <td>50000</td>\n",
       "      <td>very large</td>\n",
       "      <td>Kec</td>\n",
       "      <td>UKN</td>\n",
       "      <td>Yes</td>\n",
       "      <td>64.8</td>\n",
       "    </tr>\n",
       "    <tr>\n",
       "      <th>5</th>\n",
       "      <td>RF</td>\n",
       "      <td>Summer</td>\n",
       "      <td>-</td>\n",
       "      <td>70</td>\n",
       "      <td>-</td>\n",
       "      <td>medium</td>\n",
       "      <td>Khd</td>\n",
       "      <td>L</td>\n",
       "      <td>Yes</td>\n",
       "      <td>74.1</td>\n",
       "    </tr>\n",
       "    <tr>\n",
       "      <th>6</th>\n",
       "      <td>RF</td>\n",
       "      <td>Summer</td>\n",
       "      <td>5000</td>\n",
       "      <td>20000</td>\n",
       "      <td>50000</td>\n",
       "      <td>very large</td>\n",
       "      <td>Kgp</td>\n",
       "      <td>UNR</td>\n",
       "      <td>Yes</td>\n",
       "      <td>69.3</td>\n",
       "    </tr>\n",
       "  </tbody>\n",
       "</table>\n",
       "</div>"
      ],
      "text/plain": [
       "  Type of slope movement  Season Minimum volume Median/best estimate volume  \\\n",
       "0                     RF  Winter          50000                      200000   \n",
       "3                     RF    Fall           5000                       20000   \n",
       "4                     RF     NaN           5000                       20000   \n",
       "5                     RF  Summer              -                          70   \n",
       "6                     RF  Summer           5000                       20000   \n",
       "\n",
       "  Maximum volume    Relative size Rock unit Triggering condition(s) Rockfall  \\\n",
       "0         500000  extremely large       Kec                     UKN      Yes   \n",
       "3          50000       very large        Ks                       P      Yes   \n",
       "4          50000       very large       Kec                     UKN      Yes   \n",
       "5              -           medium       Khd                       L      Yes   \n",
       "6          50000       very large       Kgp                     UNR      Yes   \n",
       "\n",
       "   slope_angle_degrees  \n",
       "0                 69.0  \n",
       "3                 61.3  \n",
       "4                 64.8  \n",
       "5                 74.1  \n",
       "6                 69.3  "
      ]
     },
     "execution_count": 1004,
     "metadata": {},
     "output_type": "execute_result"
    }
   ],
   "source": [
    "temp_df.head()"
   ]
  },
  {
   "cell_type": "code",
   "execution_count": 1005,
   "id": "15b0d5b0",
   "metadata": {},
   "outputs": [
    {
     "name": "stderr",
     "output_type": "stream",
     "text": [
      "C:\\Users\\arunc\\AppData\\Local\\Temp\\ipykernel_31448\\1420333791.py:10: FutureWarning: A value is trying to be set on a copy of a DataFrame or Series through chained assignment using an inplace method.\n",
      "The behavior will change in pandas 3.0. This inplace method will never work because the intermediate object on which we are setting values always behaves as a copy.\n",
      "\n",
      "For example, when doing 'df[col].method(value, inplace=True)', try using 'df.method({col: value}, inplace=True)' or df[col] = df[col].method(value) instead, to perform the operation inplace on the original object.\n",
      "\n",
      "\n",
      "  temp_df[col].fillna(median_val, inplace=True)\n",
      "C:\\Users\\arunc\\AppData\\Local\\Temp\\ipykernel_31448\\1420333791.py:10: FutureWarning: A value is trying to be set on a copy of a DataFrame or Series through chained assignment using an inplace method.\n",
      "The behavior will change in pandas 3.0. This inplace method will never work because the intermediate object on which we are setting values always behaves as a copy.\n",
      "\n",
      "For example, when doing 'df[col].method(value, inplace=True)', try using 'df.method({col: value}, inplace=True)' or df[col] = df[col].method(value) instead, to perform the operation inplace on the original object.\n",
      "\n",
      "\n",
      "  temp_df[col].fillna(median_val, inplace=True)\n",
      "C:\\Users\\arunc\\AppData\\Local\\Temp\\ipykernel_31448\\1420333791.py:10: FutureWarning: A value is trying to be set on a copy of a DataFrame or Series through chained assignment using an inplace method.\n",
      "The behavior will change in pandas 3.0. This inplace method will never work because the intermediate object on which we are setting values always behaves as a copy.\n",
      "\n",
      "For example, when doing 'df[col].method(value, inplace=True)', try using 'df.method({col: value}, inplace=True)' or df[col] = df[col].method(value) instead, to perform the operation inplace on the original object.\n",
      "\n",
      "\n",
      "  temp_df[col].fillna(median_val, inplace=True)\n"
     ]
    }
   ],
   "source": [
    "volume_cols = ['Minimum volume', 'Median/best estimate volume', 'Maximum volume']\n",
    "\n",
    "# Loop through each column to apply the cleaning and conversion logic\n",
    "for col in volume_cols:\n",
    "    # Convert to numeric, forcing errors (like '-') into NaN (Not a Number)\n",
    "    temp_df[col] = pd.to_numeric(temp_df[col], errors='coerce')\n",
    "\n",
    "    # Calculate the median for the current column to fill the NaNs\n",
    "    median_val = temp_df[col].median()\n",
    "    temp_df[col].fillna(median_val, inplace=True)\n",
    "\n",
    "    # Convert the column to an integer type for efficiency\n",
    "    temp_df[col] = temp_df[col].astype(int)\n",
    "\n",
    "# Rename the columns to be shorter and more convenient\n",
    "rename_dict = {\n",
    "    'Minimum volume': 'min_volume',\n",
    "    'Median/best estimate volume': 'median_volume',\n",
    "    'Maximum volume': 'max_volume'\n",
    "}\n",
    "temp_df.rename(columns=rename_dict, inplace=True)"
   ]
  },
  {
   "cell_type": "code",
   "execution_count": 1006,
   "id": "3ad58fb8",
   "metadata": {},
   "outputs": [
    {
     "name": "stdout",
     "output_type": "stream",
     "text": [
      "<class 'pandas.core.frame.DataFrame'>\n",
      "Index: 641 entries, 0 to 924\n",
      "Data columns (total 10 columns):\n",
      " #   Column                   Non-Null Count  Dtype  \n",
      "---  ------                   --------------  -----  \n",
      " 0   Type of slope movement   641 non-null    object \n",
      " 1   Season                   629 non-null    object \n",
      " 2   min_volume               641 non-null    int64  \n",
      " 3   median_volume            641 non-null    int64  \n",
      " 4   max_volume               641 non-null    int64  \n",
      " 5   Relative size            641 non-null    object \n",
      " 6   Rock unit                641 non-null    object \n",
      " 7   Triggering condition(s)  641 non-null    object \n",
      " 8   Rockfall                 641 non-null    object \n",
      " 9   slope_angle_degrees      641 non-null    float64\n",
      "dtypes: float64(1), int64(3), object(6)\n",
      "memory usage: 55.1+ KB\n"
     ]
    }
   ],
   "source": [
    "temp_df.info()"
   ]
  },
  {
   "cell_type": "code",
   "execution_count": 1007,
   "id": "ed880881",
   "metadata": {},
   "outputs": [
    {
     "data": {
      "text/plain": [
       "array(['extremely large', 'very large', 'medium', 'large', 'very small',\n",
       "       'small', 'See ID 1930031801', 'extremely small',\n",
       "       'See ID 1987031001', 'See ID 1996071101', 'small ',\n",
       "       'See ID 1998111601', 'very small ', 'See ID 2001091401',\n",
       "       'See ID 2003060601', 'See ID 2003071801', 'See ID 2006043001',\n",
       "       'See ID 2008110101'], dtype=object)"
      ]
     },
     "execution_count": 1007,
     "metadata": {},
     "output_type": "execute_result"
    }
   ],
   "source": [
    "temp_df['Relative size'].unique()"
   ]
  },
  {
   "cell_type": "code",
   "execution_count": 1008,
   "id": "acb4159b",
   "metadata": {},
   "outputs": [],
   "source": [
    "size_map = {\n",
    "    'extremely small': 'small', 'very small': 'small', 'small': 'small',\n",
    "    'small ': 'small', 'very small ': 'small',\n",
    "    'medium': 'medium',\n",
    "    'large': 'large', 'very large': 'large', 'extremely large': 'large'\n",
    "}\n",
    "\n",
    "# Apply the mapping. Anything not in the map's keys (like 'See ID...') will become NaN.\n",
    "temp_df['Relative size'] = temp_df['Relative size'].map(size_map)\n",
    "\n",
    "# Now, drop any rows where the size is NaN, effectively keeping only small, medium, and large.\n",
    "temp_df.dropna(subset=['Relative size'], inplace=True)"
   ]
  },
  {
   "cell_type": "code",
   "execution_count": 1009,
   "id": "fb12eabf",
   "metadata": {},
   "outputs": [
    {
     "name": "stdout",
     "output_type": "stream",
     "text": [
      "<class 'pandas.core.frame.DataFrame'>\n",
      "Index: 631 entries, 0 to 924\n",
      "Data columns (total 10 columns):\n",
      " #   Column                   Non-Null Count  Dtype  \n",
      "---  ------                   --------------  -----  \n",
      " 0   Type of slope movement   631 non-null    object \n",
      " 1   Season                   619 non-null    object \n",
      " 2   min_volume               631 non-null    int64  \n",
      " 3   median_volume            631 non-null    int64  \n",
      " 4   max_volume               631 non-null    int64  \n",
      " 5   Relative size            631 non-null    object \n",
      " 6   Rock unit                631 non-null    object \n",
      " 7   Triggering condition(s)  631 non-null    object \n",
      " 8   Rockfall                 631 non-null    object \n",
      " 9   slope_angle_degrees      631 non-null    float64\n",
      "dtypes: float64(1), int64(3), object(6)\n",
      "memory usage: 54.2+ KB\n"
     ]
    }
   ],
   "source": [
    "temp_df.info()"
   ]
  },
  {
   "cell_type": "code",
   "execution_count": 1010,
   "id": "f278f2df",
   "metadata": {},
   "outputs": [
    {
     "data": {
      "text/html": [
       "<div>\n",
       "<style scoped>\n",
       "    .dataframe tbody tr th:only-of-type {\n",
       "        vertical-align: middle;\n",
       "    }\n",
       "\n",
       "    .dataframe tbody tr th {\n",
       "        vertical-align: top;\n",
       "    }\n",
       "\n",
       "    .dataframe thead th {\n",
       "        text-align: right;\n",
       "    }\n",
       "</style>\n",
       "<table border=\"1\" class=\"dataframe\">\n",
       "  <thead>\n",
       "    <tr style=\"text-align: right;\">\n",
       "      <th></th>\n",
       "      <th>Type of slope movement</th>\n",
       "      <th>Season</th>\n",
       "      <th>min_volume</th>\n",
       "      <th>median_volume</th>\n",
       "      <th>max_volume</th>\n",
       "      <th>Relative size</th>\n",
       "      <th>Rock unit</th>\n",
       "      <th>Triggering condition(s)</th>\n",
       "      <th>Rockfall</th>\n",
       "      <th>slope_angle_degrees</th>\n",
       "    </tr>\n",
       "  </thead>\n",
       "  <tbody>\n",
       "    <tr>\n",
       "      <th>0</th>\n",
       "      <td>RF</td>\n",
       "      <td>Winter</td>\n",
       "      <td>50000</td>\n",
       "      <td>200000</td>\n",
       "      <td>500000</td>\n",
       "      <td>large</td>\n",
       "      <td>Kec</td>\n",
       "      <td>UKN</td>\n",
       "      <td>Yes</td>\n",
       "      <td>69.0</td>\n",
       "    </tr>\n",
       "    <tr>\n",
       "      <th>3</th>\n",
       "      <td>RF</td>\n",
       "      <td>Fall</td>\n",
       "      <td>5000</td>\n",
       "      <td>20000</td>\n",
       "      <td>50000</td>\n",
       "      <td>large</td>\n",
       "      <td>Ks</td>\n",
       "      <td>P</td>\n",
       "      <td>Yes</td>\n",
       "      <td>61.3</td>\n",
       "    </tr>\n",
       "    <tr>\n",
       "      <th>4</th>\n",
       "      <td>RF</td>\n",
       "      <td>NaN</td>\n",
       "      <td>5000</td>\n",
       "      <td>20000</td>\n",
       "      <td>50000</td>\n",
       "      <td>large</td>\n",
       "      <td>Kec</td>\n",
       "      <td>UKN</td>\n",
       "      <td>Yes</td>\n",
       "      <td>64.8</td>\n",
       "    </tr>\n",
       "    <tr>\n",
       "      <th>5</th>\n",
       "      <td>RF</td>\n",
       "      <td>Summer</td>\n",
       "      <td>5</td>\n",
       "      <td>70</td>\n",
       "      <td>50</td>\n",
       "      <td>medium</td>\n",
       "      <td>Khd</td>\n",
       "      <td>L</td>\n",
       "      <td>Yes</td>\n",
       "      <td>74.1</td>\n",
       "    </tr>\n",
       "    <tr>\n",
       "      <th>6</th>\n",
       "      <td>RF</td>\n",
       "      <td>Summer</td>\n",
       "      <td>5000</td>\n",
       "      <td>20000</td>\n",
       "      <td>50000</td>\n",
       "      <td>large</td>\n",
       "      <td>Kgp</td>\n",
       "      <td>UNR</td>\n",
       "      <td>Yes</td>\n",
       "      <td>69.3</td>\n",
       "    </tr>\n",
       "  </tbody>\n",
       "</table>\n",
       "</div>"
      ],
      "text/plain": [
       "  Type of slope movement  Season  min_volume  median_volume  max_volume  \\\n",
       "0                     RF  Winter       50000         200000      500000   \n",
       "3                     RF    Fall        5000          20000       50000   \n",
       "4                     RF     NaN        5000          20000       50000   \n",
       "5                     RF  Summer           5             70          50   \n",
       "6                     RF  Summer        5000          20000       50000   \n",
       "\n",
       "  Relative size Rock unit Triggering condition(s) Rockfall  \\\n",
       "0         large       Kec                     UKN      Yes   \n",
       "3         large        Ks                       P      Yes   \n",
       "4         large       Kec                     UKN      Yes   \n",
       "5        medium       Khd                       L      Yes   \n",
       "6         large       Kgp                     UNR      Yes   \n",
       "\n",
       "   slope_angle_degrees  \n",
       "0                 69.0  \n",
       "3                 61.3  \n",
       "4                 64.8  \n",
       "5                 74.1  \n",
       "6                 69.3  "
      ]
     },
     "execution_count": 1010,
     "metadata": {},
     "output_type": "execute_result"
    }
   ],
   "source": [
    "temp_df.head()"
   ]
  },
  {
   "cell_type": "code",
   "execution_count": 1011,
   "id": "dee2b6a4",
   "metadata": {},
   "outputs": [
    {
     "data": {
      "text/plain": [
       "array(['Kec', 'Ks', 'Khd', 'Kgp', 'Qat', 'Kga', 'Kg', 'Kdg', 'Ka', 'Krm',\n",
       "       'Kt', 'Kic', 'Kcp', 'Klt', 'Kid', 'Kbv', 'Pzme', 'Kjdg', 'Krd',\n",
       "       'Ktf'], dtype=object)"
      ]
     },
     "execution_count": 1011,
     "metadata": {},
     "output_type": "execute_result"
    }
   ],
   "source": [
    "temp_df['Rock unit'].unique()"
   ]
  },
  {
   "cell_type": "code",
   "execution_count": 1012,
   "id": "08a73976",
   "metadata": {},
   "outputs": [],
   "source": [
    "rock_unit_map = {\n",
    "    'Kec': 'Kec', 'Ks': 'Ks', 'Khd': 'Khd', 'Kgp': 'Kgp', 'Qat': 'Qat',\n",
    "    'Kga': 'Kga', 'Kg': 'Kg', 'Kdg': 'Kdg', 'Ka': 'Ka', 'Krm': 'Krm',\n",
    "    'Kt': 'Kt', 'Kic': 'Kic', 'Kcp': 'Kcp', 'Klt': 'Klt', 'Kid': 'Kid',\n",
    "    'Kbv': 'Kbv', 'Pzme': 'Pzme', 'Kjdg': 'Kjdg', 'Krd': 'Krd', 'Ktf': 'Ktf',\n",
    "    # Composite units are mapped to their primary (first) type\n",
    "    'Ks/Kec': 'Ks', 'Kgp/Kec': 'Kgp', 'Kec/Kdg': 'Kec', 'Ka/Kga': 'Ka',\n",
    "    'Kg/Kec': 'Kg', 'Kid/Kec': 'Kid', 'Pzme / Kga': 'Pzme', 'Kga/Kec': 'Kga',\n",
    "    'Kec/Ks': 'Kec', 'Kgp/Ks': 'Kgp', 'Kyc / Kec': 'Kyc', 'Kgi / Kg': 'Kgi',\n",
    "    'Kyc/Kec': 'Kyc', 'Kec/Kid': 'Kec', 'Ks/Pzme': 'Ks', 'Kec/Kbv': 'Kec',\n",
    "    'Pzme/Kga': 'Pzme', 'Klt/Kbv': 'Klt', 'Kec/Kt': 'Kec'\n",
    "}\n",
    "\n",
    "# Apply the mapping. Anything not in the map's keys will become NaN.\n",
    "temp_df['Rock unit'] = temp_df['Rock unit'].map(rock_unit_map)"
   ]
  },
  {
   "cell_type": "code",
   "execution_count": 1013,
   "id": "466e5496",
   "metadata": {},
   "outputs": [
    {
     "data": {
      "text/plain": [
       "array(['Kec', 'Ks', 'Khd', 'Kgp', 'Qat', 'Kga', 'Kg', 'Kdg', 'Ka', 'Krm',\n",
       "       'Kt', 'Kic', 'Kcp', 'Klt', 'Kid', 'Kbv', 'Pzme', 'Kjdg', 'Krd',\n",
       "       'Ktf'], dtype=object)"
      ]
     },
     "execution_count": 1013,
     "metadata": {},
     "output_type": "execute_result"
    }
   ],
   "source": [
    "temp_df['Rock unit'].unique()"
   ]
  },
  {
   "cell_type": "code",
   "execution_count": 1014,
   "id": "9d370288",
   "metadata": {},
   "outputs": [
    {
     "data": {
      "text/html": [
       "<div>\n",
       "<style scoped>\n",
       "    .dataframe tbody tr th:only-of-type {\n",
       "        vertical-align: middle;\n",
       "    }\n",
       "\n",
       "    .dataframe tbody tr th {\n",
       "        vertical-align: top;\n",
       "    }\n",
       "\n",
       "    .dataframe thead th {\n",
       "        text-align: right;\n",
       "    }\n",
       "</style>\n",
       "<table border=\"1\" class=\"dataframe\">\n",
       "  <thead>\n",
       "    <tr style=\"text-align: right;\">\n",
       "      <th></th>\n",
       "      <th>Type of slope movement</th>\n",
       "      <th>Season</th>\n",
       "      <th>min_volume</th>\n",
       "      <th>median_volume</th>\n",
       "      <th>max_volume</th>\n",
       "      <th>Relative size</th>\n",
       "      <th>Rock unit</th>\n",
       "      <th>Triggering condition(s)</th>\n",
       "      <th>Rockfall</th>\n",
       "      <th>slope_angle_degrees</th>\n",
       "    </tr>\n",
       "  </thead>\n",
       "  <tbody>\n",
       "    <tr>\n",
       "      <th>0</th>\n",
       "      <td>RF</td>\n",
       "      <td>Winter</td>\n",
       "      <td>50000</td>\n",
       "      <td>200000</td>\n",
       "      <td>500000</td>\n",
       "      <td>large</td>\n",
       "      <td>Kec</td>\n",
       "      <td>UKN</td>\n",
       "      <td>Yes</td>\n",
       "      <td>69.0</td>\n",
       "    </tr>\n",
       "    <tr>\n",
       "      <th>3</th>\n",
       "      <td>RF</td>\n",
       "      <td>Fall</td>\n",
       "      <td>5000</td>\n",
       "      <td>20000</td>\n",
       "      <td>50000</td>\n",
       "      <td>large</td>\n",
       "      <td>Ks</td>\n",
       "      <td>P</td>\n",
       "      <td>Yes</td>\n",
       "      <td>61.3</td>\n",
       "    </tr>\n",
       "    <tr>\n",
       "      <th>4</th>\n",
       "      <td>RF</td>\n",
       "      <td>NaN</td>\n",
       "      <td>5000</td>\n",
       "      <td>20000</td>\n",
       "      <td>50000</td>\n",
       "      <td>large</td>\n",
       "      <td>Kec</td>\n",
       "      <td>UKN</td>\n",
       "      <td>Yes</td>\n",
       "      <td>64.8</td>\n",
       "    </tr>\n",
       "    <tr>\n",
       "      <th>5</th>\n",
       "      <td>RF</td>\n",
       "      <td>Summer</td>\n",
       "      <td>5</td>\n",
       "      <td>70</td>\n",
       "      <td>50</td>\n",
       "      <td>medium</td>\n",
       "      <td>Khd</td>\n",
       "      <td>L</td>\n",
       "      <td>Yes</td>\n",
       "      <td>74.1</td>\n",
       "    </tr>\n",
       "    <tr>\n",
       "      <th>6</th>\n",
       "      <td>RF</td>\n",
       "      <td>Summer</td>\n",
       "      <td>5000</td>\n",
       "      <td>20000</td>\n",
       "      <td>50000</td>\n",
       "      <td>large</td>\n",
       "      <td>Kgp</td>\n",
       "      <td>UNR</td>\n",
       "      <td>Yes</td>\n",
       "      <td>69.3</td>\n",
       "    </tr>\n",
       "  </tbody>\n",
       "</table>\n",
       "</div>"
      ],
      "text/plain": [
       "  Type of slope movement  Season  min_volume  median_volume  max_volume  \\\n",
       "0                     RF  Winter       50000         200000      500000   \n",
       "3                     RF    Fall        5000          20000       50000   \n",
       "4                     RF     NaN        5000          20000       50000   \n",
       "5                     RF  Summer           5             70          50   \n",
       "6                     RF  Summer        5000          20000       50000   \n",
       "\n",
       "  Relative size Rock unit Triggering condition(s) Rockfall  \\\n",
       "0         large       Kec                     UKN      Yes   \n",
       "3         large        Ks                       P      Yes   \n",
       "4         large       Kec                     UKN      Yes   \n",
       "5        medium       Khd                       L      Yes   \n",
       "6         large       Kgp                     UNR      Yes   \n",
       "\n",
       "   slope_angle_degrees  \n",
       "0                 69.0  \n",
       "3                 61.3  \n",
       "4                 64.8  \n",
       "5                 74.1  \n",
       "6                 69.3  "
      ]
     },
     "execution_count": 1014,
     "metadata": {},
     "output_type": "execute_result"
    }
   ],
   "source": [
    "temp_df.head()"
   ]
  },
  {
   "cell_type": "code",
   "execution_count": 1015,
   "id": "031f2fee",
   "metadata": {},
   "outputs": [
    {
     "data": {
      "text/plain": [
       "array(['UKN', 'P', 'L', 'UNR', 'EQ', 'R/S', 'C', 'SM', 'F/T', 'B',\n",
       "       'F/T, TS', 'GV', 'L,P', 'L ', 'P, SM', 'P, F/T', 'EQ, P', 'P, RW',\n",
       "       'TS, F/T', 'SM, F/T', 'TS', 'RW', 'P, TS', 'SA', 'SM, CP', 'CP',\n",
       "       'F/T, P', 'TS, L', 'RW, F/T', 'TS/CP'], dtype=object)"
      ]
     },
     "execution_count": 1015,
     "metadata": {},
     "output_type": "execute_result"
    }
   ],
   "source": [
    "temp_df['Triggering condition(s)'].unique()"
   ]
  },
  {
   "cell_type": "code",
   "execution_count": 1016,
   "id": "f1206972",
   "metadata": {},
   "outputs": [],
   "source": [
    "def standardize_trigger(trigger_string):\n",
    "    \"\"\"Maps complex trigger descriptions to a set of primary categories.\"\"\"\n",
    "    if not isinstance(trigger_string, str):\n",
    "        return 'Spontaneous'  # Handle non-string (e.g., float NaN) inputs\n",
    "\n",
    "    # Define primary triggers based on keywords, in a specific priority order\n",
    "    if 'P' in trigger_string or 'TS' in trigger_string or 'SM' in trigger_string or 'CP' in trigger_string:\n",
    "        return 'Precipitation'\n",
    "    if 'F/T' in trigger_string:\n",
    "        return 'Freeze-Thaw'\n",
    "    if 'EQ' in trigger_string:\n",
    "        return 'Earthquake'\n",
    "    if 'L' in trigger_string.strip():  # .strip() handles cases like 'L '\n",
    "        return 'Light/Thermal'\n",
    "    \n",
    "    # Group all other known (UNR, UKN) and unknown codes into a single category\n",
    "    return 'Spontaneous'\n",
    "\n",
    "temp_df['trigger'] = temp_df['Triggering condition(s)'].apply(standardize_trigger)\n",
    "temp_df.drop(columns=['Triggering condition(s)'], inplace=True)"
   ]
  },
  {
   "cell_type": "code",
   "execution_count": 1017,
   "id": "70dc557a",
   "metadata": {},
   "outputs": [
    {
     "data": {
      "text/plain": [
       "array(['Spontaneous', 'Precipitation', 'Light/Thermal', 'Earthquake',\n",
       "       'Freeze-Thaw'], dtype=object)"
      ]
     },
     "execution_count": 1017,
     "metadata": {},
     "output_type": "execute_result"
    }
   ],
   "source": [
    "temp_df['trigger'].unique()"
   ]
  },
  {
   "cell_type": "code",
   "execution_count": 1018,
   "id": "dc564f3e",
   "metadata": {},
   "outputs": [
    {
     "data": {
      "text/html": [
       "<div>\n",
       "<style scoped>\n",
       "    .dataframe tbody tr th:only-of-type {\n",
       "        vertical-align: middle;\n",
       "    }\n",
       "\n",
       "    .dataframe tbody tr th {\n",
       "        vertical-align: top;\n",
       "    }\n",
       "\n",
       "    .dataframe thead th {\n",
       "        text-align: right;\n",
       "    }\n",
       "</style>\n",
       "<table border=\"1\" class=\"dataframe\">\n",
       "  <thead>\n",
       "    <tr style=\"text-align: right;\">\n",
       "      <th></th>\n",
       "      <th>Type of slope movement</th>\n",
       "      <th>Season</th>\n",
       "      <th>min_volume</th>\n",
       "      <th>median_volume</th>\n",
       "      <th>max_volume</th>\n",
       "      <th>Relative size</th>\n",
       "      <th>Rock unit</th>\n",
       "      <th>Rockfall</th>\n",
       "      <th>slope_angle_degrees</th>\n",
       "      <th>trigger</th>\n",
       "    </tr>\n",
       "  </thead>\n",
       "  <tbody>\n",
       "    <tr>\n",
       "      <th>0</th>\n",
       "      <td>RF</td>\n",
       "      <td>Winter</td>\n",
       "      <td>50000</td>\n",
       "      <td>200000</td>\n",
       "      <td>500000</td>\n",
       "      <td>large</td>\n",
       "      <td>Kec</td>\n",
       "      <td>Yes</td>\n",
       "      <td>69.0</td>\n",
       "      <td>Spontaneous</td>\n",
       "    </tr>\n",
       "    <tr>\n",
       "      <th>3</th>\n",
       "      <td>RF</td>\n",
       "      <td>Fall</td>\n",
       "      <td>5000</td>\n",
       "      <td>20000</td>\n",
       "      <td>50000</td>\n",
       "      <td>large</td>\n",
       "      <td>Ks</td>\n",
       "      <td>Yes</td>\n",
       "      <td>61.3</td>\n",
       "      <td>Precipitation</td>\n",
       "    </tr>\n",
       "    <tr>\n",
       "      <th>4</th>\n",
       "      <td>RF</td>\n",
       "      <td>NaN</td>\n",
       "      <td>5000</td>\n",
       "      <td>20000</td>\n",
       "      <td>50000</td>\n",
       "      <td>large</td>\n",
       "      <td>Kec</td>\n",
       "      <td>Yes</td>\n",
       "      <td>64.8</td>\n",
       "      <td>Spontaneous</td>\n",
       "    </tr>\n",
       "    <tr>\n",
       "      <th>5</th>\n",
       "      <td>RF</td>\n",
       "      <td>Summer</td>\n",
       "      <td>5</td>\n",
       "      <td>70</td>\n",
       "      <td>50</td>\n",
       "      <td>medium</td>\n",
       "      <td>Khd</td>\n",
       "      <td>Yes</td>\n",
       "      <td>74.1</td>\n",
       "      <td>Light/Thermal</td>\n",
       "    </tr>\n",
       "    <tr>\n",
       "      <th>6</th>\n",
       "      <td>RF</td>\n",
       "      <td>Summer</td>\n",
       "      <td>5000</td>\n",
       "      <td>20000</td>\n",
       "      <td>50000</td>\n",
       "      <td>large</td>\n",
       "      <td>Kgp</td>\n",
       "      <td>Yes</td>\n",
       "      <td>69.3</td>\n",
       "      <td>Spontaneous</td>\n",
       "    </tr>\n",
       "  </tbody>\n",
       "</table>\n",
       "</div>"
      ],
      "text/plain": [
       "  Type of slope movement  Season  min_volume  median_volume  max_volume  \\\n",
       "0                     RF  Winter       50000         200000      500000   \n",
       "3                     RF    Fall        5000          20000       50000   \n",
       "4                     RF     NaN        5000          20000       50000   \n",
       "5                     RF  Summer           5             70          50   \n",
       "6                     RF  Summer        5000          20000       50000   \n",
       "\n",
       "  Relative size Rock unit Rockfall  slope_angle_degrees        trigger  \n",
       "0         large       Kec      Yes                 69.0    Spontaneous  \n",
       "3         large        Ks      Yes                 61.3  Precipitation  \n",
       "4         large       Kec      Yes                 64.8    Spontaneous  \n",
       "5        medium       Khd      Yes                 74.1  Light/Thermal  \n",
       "6         large       Kgp      Yes                 69.3    Spontaneous  "
      ]
     },
     "execution_count": 1018,
     "metadata": {},
     "output_type": "execute_result"
    }
   ],
   "source": [
    "temp_df.head()"
   ]
  },
  {
   "cell_type": "code",
   "execution_count": 1019,
   "id": "676cda6f",
   "metadata": {},
   "outputs": [
    {
     "data": {
      "text/plain": [
       "array(['Winter', 'Fall', nan, 'Summer', 'Spring'], dtype=object)"
      ]
     },
     "execution_count": 1019,
     "metadata": {},
     "output_type": "execute_result"
    }
   ],
   "source": [
    "temp_df['Season'].unique()"
   ]
  },
  {
   "cell_type": "code",
   "execution_count": 1020,
   "id": "e55f8007",
   "metadata": {},
   "outputs": [
    {
     "data": {
      "text/plain": [
       "np.int64(12)"
      ]
     },
     "execution_count": 1020,
     "metadata": {},
     "output_type": "execute_result"
    }
   ],
   "source": [
    "temp_df['Season'].isna().sum()"
   ]
  },
  {
   "cell_type": "code",
   "execution_count": 1021,
   "id": "a7c505f1",
   "metadata": {},
   "outputs": [
    {
     "data": {
      "text/plain": [
       "'Spring'"
      ]
     },
     "execution_count": 1021,
     "metadata": {},
     "output_type": "execute_result"
    }
   ],
   "source": [
    "temp_df['Season'].mode()[0]"
   ]
  },
  {
   "cell_type": "code",
   "execution_count": 1022,
   "id": "b6085c01",
   "metadata": {},
   "outputs": [
    {
     "name": "stderr",
     "output_type": "stream",
     "text": [
      "C:\\Users\\arunc\\AppData\\Local\\Temp\\ipykernel_31448\\2971330179.py:1: FutureWarning: A value is trying to be set on a copy of a DataFrame or Series through chained assignment using an inplace method.\n",
      "The behavior will change in pandas 3.0. This inplace method will never work because the intermediate object on which we are setting values always behaves as a copy.\n",
      "\n",
      "For example, when doing 'df[col].method(value, inplace=True)', try using 'df.method({col: value}, inplace=True)' or df[col] = df[col].method(value) instead, to perform the operation inplace on the original object.\n",
      "\n",
      "\n",
      "  temp_df['Season'].fillna(temp_df['Season'].mode()[0],inplace=True)\n"
     ]
    }
   ],
   "source": [
    "temp_df['Season'].fillna(temp_df['Season'].mode()[0],inplace=True)"
   ]
  },
  {
   "cell_type": "code",
   "execution_count": 1023,
   "id": "ffbd71e7",
   "metadata": {},
   "outputs": [
    {
     "data": {
      "text/plain": [
       "Type of slope movement    0\n",
       "Season                    0\n",
       "min_volume                0\n",
       "median_volume             0\n",
       "max_volume                0\n",
       "Relative size             0\n",
       "Rock unit                 0\n",
       "Rockfall                  0\n",
       "slope_angle_degrees       0\n",
       "trigger                   0\n",
       "dtype: int64"
      ]
     },
     "execution_count": 1023,
     "metadata": {},
     "output_type": "execute_result"
    }
   ],
   "source": [
    "temp_df.isnull().sum()"
   ]
  },
  {
   "cell_type": "code",
   "execution_count": 1024,
   "id": "863b2565",
   "metadata": {},
   "outputs": [
    {
     "name": "stdout",
     "output_type": "stream",
     "text": [
      "<class 'pandas.core.frame.DataFrame'>\n",
      "Index: 631 entries, 0 to 924\n",
      "Data columns (total 10 columns):\n",
      " #   Column                  Non-Null Count  Dtype  \n",
      "---  ------                  --------------  -----  \n",
      " 0   Type of slope movement  631 non-null    object \n",
      " 1   Season                  631 non-null    object \n",
      " 2   min_volume              631 non-null    int64  \n",
      " 3   median_volume           631 non-null    int64  \n",
      " 4   max_volume              631 non-null    int64  \n",
      " 5   Relative size           631 non-null    object \n",
      " 6   Rock unit               631 non-null    object \n",
      " 7   Rockfall                631 non-null    object \n",
      " 8   slope_angle_degrees     631 non-null    float64\n",
      " 9   trigger                 631 non-null    object \n",
      "dtypes: float64(1), int64(3), object(6)\n",
      "memory usage: 54.2+ KB\n"
     ]
    }
   ],
   "source": [
    "temp_df.info()"
   ]
  },
  {
   "cell_type": "code",
   "execution_count": 1025,
   "id": "0b449fb7",
   "metadata": {},
   "outputs": [
    {
     "data": {
      "text/plain": [
       "array(['RF', 'RS', 'DS', 'DF', 'DF/DS', 'RS/DS', 'DSL', 'ESL', 'RS/RF',\n",
       "       'RF/RS', 'RF/DS', 'SA', 'RS/ES'], dtype=object)"
      ]
     },
     "execution_count": 1025,
     "metadata": {},
     "output_type": "execute_result"
    }
   ],
   "source": [
    "temp_df['Type of slope movement'].unique()"
   ]
  },
  {
   "cell_type": "code",
   "execution_count": 1026,
   "id": "f587b3c7",
   "metadata": {},
   "outputs": [
    {
     "data": {
      "text/html": [
       "<div>\n",
       "<style scoped>\n",
       "    .dataframe tbody tr th:only-of-type {\n",
       "        vertical-align: middle;\n",
       "    }\n",
       "\n",
       "    .dataframe tbody tr th {\n",
       "        vertical-align: top;\n",
       "    }\n",
       "\n",
       "    .dataframe thead th {\n",
       "        text-align: right;\n",
       "    }\n",
       "</style>\n",
       "<table border=\"1\" class=\"dataframe\">\n",
       "  <thead>\n",
       "    <tr style=\"text-align: right;\">\n",
       "      <th></th>\n",
       "      <th>Type of slope movement</th>\n",
       "      <th>Season</th>\n",
       "      <th>min_volume</th>\n",
       "      <th>median_volume</th>\n",
       "      <th>max_volume</th>\n",
       "      <th>Relative size</th>\n",
       "      <th>Rock unit</th>\n",
       "      <th>Rockfall</th>\n",
       "      <th>slope_angle_degrees</th>\n",
       "      <th>trigger</th>\n",
       "    </tr>\n",
       "  </thead>\n",
       "  <tbody>\n",
       "    <tr>\n",
       "      <th>0</th>\n",
       "      <td>RF</td>\n",
       "      <td>Winter</td>\n",
       "      <td>50000</td>\n",
       "      <td>200000</td>\n",
       "      <td>500000</td>\n",
       "      <td>large</td>\n",
       "      <td>Kec</td>\n",
       "      <td>Yes</td>\n",
       "      <td>69.0</td>\n",
       "      <td>Spontaneous</td>\n",
       "    </tr>\n",
       "    <tr>\n",
       "      <th>3</th>\n",
       "      <td>RF</td>\n",
       "      <td>Fall</td>\n",
       "      <td>5000</td>\n",
       "      <td>20000</td>\n",
       "      <td>50000</td>\n",
       "      <td>large</td>\n",
       "      <td>Ks</td>\n",
       "      <td>Yes</td>\n",
       "      <td>61.3</td>\n",
       "      <td>Precipitation</td>\n",
       "    </tr>\n",
       "    <tr>\n",
       "      <th>4</th>\n",
       "      <td>RF</td>\n",
       "      <td>Spring</td>\n",
       "      <td>5000</td>\n",
       "      <td>20000</td>\n",
       "      <td>50000</td>\n",
       "      <td>large</td>\n",
       "      <td>Kec</td>\n",
       "      <td>Yes</td>\n",
       "      <td>64.8</td>\n",
       "      <td>Spontaneous</td>\n",
       "    </tr>\n",
       "    <tr>\n",
       "      <th>5</th>\n",
       "      <td>RF</td>\n",
       "      <td>Summer</td>\n",
       "      <td>5</td>\n",
       "      <td>70</td>\n",
       "      <td>50</td>\n",
       "      <td>medium</td>\n",
       "      <td>Khd</td>\n",
       "      <td>Yes</td>\n",
       "      <td>74.1</td>\n",
       "      <td>Light/Thermal</td>\n",
       "    </tr>\n",
       "    <tr>\n",
       "      <th>6</th>\n",
       "      <td>RF</td>\n",
       "      <td>Summer</td>\n",
       "      <td>5000</td>\n",
       "      <td>20000</td>\n",
       "      <td>50000</td>\n",
       "      <td>large</td>\n",
       "      <td>Kgp</td>\n",
       "      <td>Yes</td>\n",
       "      <td>69.3</td>\n",
       "      <td>Spontaneous</td>\n",
       "    </tr>\n",
       "  </tbody>\n",
       "</table>\n",
       "</div>"
      ],
      "text/plain": [
       "  Type of slope movement  Season  min_volume  median_volume  max_volume  \\\n",
       "0                     RF  Winter       50000         200000      500000   \n",
       "3                     RF    Fall        5000          20000       50000   \n",
       "4                     RF  Spring        5000          20000       50000   \n",
       "5                     RF  Summer           5             70          50   \n",
       "6                     RF  Summer        5000          20000       50000   \n",
       "\n",
       "  Relative size Rock unit Rockfall  slope_angle_degrees        trigger  \n",
       "0         large       Kec      Yes                 69.0    Spontaneous  \n",
       "3         large        Ks      Yes                 61.3  Precipitation  \n",
       "4         large       Kec      Yes                 64.8    Spontaneous  \n",
       "5        medium       Khd      Yes                 74.1  Light/Thermal  \n",
       "6         large       Kgp      Yes                 69.3    Spontaneous  "
      ]
     },
     "execution_count": 1026,
     "metadata": {},
     "output_type": "execute_result"
    }
   ],
   "source": [
    "temp_df.head()"
   ]
  },
  {
   "cell_type": "markdown",
   "id": "91b9310b",
   "metadata": {},
   "source": [
    "Independent & Dependent"
   ]
  },
  {
   "cell_type": "code",
   "execution_count": 1027,
   "id": "cbe69134",
   "metadata": {},
   "outputs": [
    {
     "data": {
      "text/plain": [
       "Rockfall\n",
       "Yes    385\n",
       "No     246\n",
       "Name: count, dtype: int64"
      ]
     },
     "execution_count": 1027,
     "metadata": {},
     "output_type": "execute_result"
    }
   ],
   "source": [
    "temp_df['Rockfall'].value_counts()"
   ]
  },
  {
   "cell_type": "code",
   "execution_count": 1028,
   "id": "8d0ebbcd",
   "metadata": {},
   "outputs": [],
   "source": [
    "X =temp_df.drop(columns=['Rockfall'])\n",
    "y =temp_df['Rockfall']"
   ]
  },
  {
   "cell_type": "code",
   "execution_count": 1052,
   "id": "775a13c6",
   "metadata": {},
   "outputs": [
    {
     "data": {
      "text/html": [
       "<div>\n",
       "<style scoped>\n",
       "    .dataframe tbody tr th:only-of-type {\n",
       "        vertical-align: middle;\n",
       "    }\n",
       "\n",
       "    .dataframe tbody tr th {\n",
       "        vertical-align: top;\n",
       "    }\n",
       "\n",
       "    .dataframe thead th {\n",
       "        text-align: right;\n",
       "    }\n",
       "</style>\n",
       "<table border=\"1\" class=\"dataframe\">\n",
       "  <thead>\n",
       "    <tr style=\"text-align: right;\">\n",
       "      <th></th>\n",
       "      <th>Type of slope movement</th>\n",
       "      <th>Season</th>\n",
       "      <th>min_volume</th>\n",
       "      <th>median_volume</th>\n",
       "      <th>max_volume</th>\n",
       "      <th>Relative size</th>\n",
       "      <th>Rock unit</th>\n",
       "      <th>slope_angle_degrees</th>\n",
       "      <th>trigger</th>\n",
       "    </tr>\n",
       "  </thead>\n",
       "  <tbody>\n",
       "    <tr>\n",
       "      <th>0</th>\n",
       "      <td>RF</td>\n",
       "      <td>Winter</td>\n",
       "      <td>50000</td>\n",
       "      <td>200000</td>\n",
       "      <td>500000</td>\n",
       "      <td>large</td>\n",
       "      <td>Kec</td>\n",
       "      <td>69.0</td>\n",
       "      <td>Spontaneous</td>\n",
       "    </tr>\n",
       "    <tr>\n",
       "      <th>3</th>\n",
       "      <td>RF</td>\n",
       "      <td>Fall</td>\n",
       "      <td>5000</td>\n",
       "      <td>20000</td>\n",
       "      <td>50000</td>\n",
       "      <td>large</td>\n",
       "      <td>Ks</td>\n",
       "      <td>61.3</td>\n",
       "      <td>Precipitation</td>\n",
       "    </tr>\n",
       "    <tr>\n",
       "      <th>4</th>\n",
       "      <td>RF</td>\n",
       "      <td>Spring</td>\n",
       "      <td>5000</td>\n",
       "      <td>20000</td>\n",
       "      <td>50000</td>\n",
       "      <td>large</td>\n",
       "      <td>Kec</td>\n",
       "      <td>64.8</td>\n",
       "      <td>Spontaneous</td>\n",
       "    </tr>\n",
       "    <tr>\n",
       "      <th>5</th>\n",
       "      <td>RF</td>\n",
       "      <td>Summer</td>\n",
       "      <td>5</td>\n",
       "      <td>70</td>\n",
       "      <td>50</td>\n",
       "      <td>medium</td>\n",
       "      <td>Khd</td>\n",
       "      <td>74.1</td>\n",
       "      <td>Light/Thermal</td>\n",
       "    </tr>\n",
       "    <tr>\n",
       "      <th>6</th>\n",
       "      <td>RF</td>\n",
       "      <td>Summer</td>\n",
       "      <td>5000</td>\n",
       "      <td>20000</td>\n",
       "      <td>50000</td>\n",
       "      <td>large</td>\n",
       "      <td>Kgp</td>\n",
       "      <td>69.3</td>\n",
       "      <td>Spontaneous</td>\n",
       "    </tr>\n",
       "  </tbody>\n",
       "</table>\n",
       "</div>"
      ],
      "text/plain": [
       "  Type of slope movement  Season  min_volume  median_volume  max_volume  \\\n",
       "0                     RF  Winter       50000         200000      500000   \n",
       "3                     RF    Fall        5000          20000       50000   \n",
       "4                     RF  Spring        5000          20000       50000   \n",
       "5                     RF  Summer           5             70          50   \n",
       "6                     RF  Summer        5000          20000       50000   \n",
       "\n",
       "  Relative size Rock unit  slope_angle_degrees        trigger  \n",
       "0         large       Kec                 69.0    Spontaneous  \n",
       "3         large        Ks                 61.3  Precipitation  \n",
       "4         large       Kec                 64.8    Spontaneous  \n",
       "5        medium       Khd                 74.1  Light/Thermal  \n",
       "6         large       Kgp                 69.3    Spontaneous  "
      ]
     },
     "execution_count": 1052,
     "metadata": {},
     "output_type": "execute_result"
    }
   ],
   "source": [
    "X.head()"
   ]
  },
  {
   "cell_type": "code",
   "execution_count": 1053,
   "id": "9f19ff48",
   "metadata": {},
   "outputs": [
    {
     "data": {
      "text/plain": [
       "array(['Spontaneous', 'Precipitation', 'Light/Thermal', 'Earthquake',\n",
       "       'Freeze-Thaw'], dtype=object)"
      ]
     },
     "execution_count": 1053,
     "metadata": {},
     "output_type": "execute_result"
    }
   ],
   "source": [
    "X['trigger'].unique()"
   ]
  },
  {
   "cell_type": "code",
   "execution_count": 1029,
   "id": "3147b8de",
   "metadata": {},
   "outputs": [],
   "source": [
    "from sklearn.preprocessing import OneHotEncoder\n",
    "from sklearn.preprocessing import StandardScaler\n",
    "from sklearn.preprocessing import LabelEncoder\n",
    "from sklearn.pipeline import Pipeline\n",
    "from sklearn.compose import ColumnTransformer"
   ]
  },
  {
   "cell_type": "code",
   "execution_count": 1030,
   "id": "02572472",
   "metadata": {},
   "outputs": [],
   "source": [
    "scalerY =LabelEncoder()\n",
    "y =scalerY.fit_transform(y)"
   ]
  },
  {
   "cell_type": "markdown",
   "id": "1411aff7",
   "metadata": {},
   "source": [
    "Train test split"
   ]
  },
  {
   "cell_type": "code",
   "execution_count": 1031,
   "id": "9a187331",
   "metadata": {},
   "outputs": [],
   "source": [
    "numeric_features =X.select_dtypes(exclude=\"object\").columns\n",
    "cat_features =X.select_dtypes(include=\"object\").columns"
   ]
  },
  {
   "cell_type": "code",
   "execution_count": 1032,
   "id": "2273fc53",
   "metadata": {},
   "outputs": [],
   "source": [
    "from sklearn.model_selection import train_test_split"
   ]
  },
  {
   "cell_type": "code",
   "execution_count": 1033,
   "id": "bc44985f",
   "metadata": {},
   "outputs": [],
   "source": [
    "X_train, X_test,y_train,y_test =train_test_split(X,y,test_size=0.20,random_state=10)"
   ]
  },
  {
   "cell_type": "code",
   "execution_count": null,
   "id": "fee17659",
   "metadata": {},
   "outputs": [],
   "source": []
  },
  {
   "cell_type": "code",
   "execution_count": 1034,
   "id": "2ebc94de",
   "metadata": {},
   "outputs": [],
   "source": [
    "categorical_transformer = Pipeline(steps=[\n",
    "    (\"encoder\", OneHotEncoder(handle_unknown=\"ignore\"))\n",
    "])\n",
    "\n",
    "# Numeric transformer\n",
    "numeric_transformer = Pipeline(steps=[\n",
    "    (\"scaler\", StandardScaler())\n",
    "])\n"
   ]
  },
  {
   "cell_type": "code",
   "execution_count": 1035,
   "id": "8234d1a1",
   "metadata": {},
   "outputs": [],
   "source": [
    "preprocessor = ColumnTransformer(\n",
    "    transformers=[\n",
    "        (\"encoder\", OneHotEncoder(handle_unknown='ignore'), cat_features),\n",
    "        (\"scaler\", StandardScaler(), numeric_features)\n",
    "    ],\n",
    "    remainder='passthrough'  # This is the key addition\n",
    ")"
   ]
  },
  {
   "cell_type": "code",
   "execution_count": 1055,
   "id": "696a82fb",
   "metadata": {},
   "outputs": [
    {
     "data": {
      "text/html": [
       "<div>\n",
       "<style scoped>\n",
       "    .dataframe tbody tr th:only-of-type {\n",
       "        vertical-align: middle;\n",
       "    }\n",
       "\n",
       "    .dataframe tbody tr th {\n",
       "        vertical-align: top;\n",
       "    }\n",
       "\n",
       "    .dataframe thead th {\n",
       "        text-align: right;\n",
       "    }\n",
       "</style>\n",
       "<table border=\"1\" class=\"dataframe\">\n",
       "  <thead>\n",
       "    <tr style=\"text-align: right;\">\n",
       "      <th></th>\n",
       "      <th>Type of slope movement</th>\n",
       "      <th>Season</th>\n",
       "      <th>min_volume</th>\n",
       "      <th>median_volume</th>\n",
       "      <th>max_volume</th>\n",
       "      <th>Relative size</th>\n",
       "      <th>Rock unit</th>\n",
       "      <th>slope_angle_degrees</th>\n",
       "      <th>trigger</th>\n",
       "    </tr>\n",
       "  </thead>\n",
       "  <tbody>\n",
       "    <tr>\n",
       "      <th>398</th>\n",
       "      <td>RF</td>\n",
       "      <td>Summer</td>\n",
       "      <td>5</td>\n",
       "      <td>20</td>\n",
       "      <td>50</td>\n",
       "      <td>small</td>\n",
       "      <td>Khd</td>\n",
       "      <td>80.1</td>\n",
       "      <td>Spontaneous</td>\n",
       "    </tr>\n",
       "    <tr>\n",
       "      <th>138</th>\n",
       "      <td>RS</td>\n",
       "      <td>Spring</td>\n",
       "      <td>500</td>\n",
       "      <td>2000</td>\n",
       "      <td>5000</td>\n",
       "      <td>large</td>\n",
       "      <td>Kga</td>\n",
       "      <td>76.3</td>\n",
       "      <td>Precipitation</td>\n",
       "    </tr>\n",
       "    <tr>\n",
       "      <th>883</th>\n",
       "      <td>RF</td>\n",
       "      <td>Spring</td>\n",
       "      <td>5</td>\n",
       "      <td>5</td>\n",
       "      <td>50</td>\n",
       "      <td>small</td>\n",
       "      <td>Kec</td>\n",
       "      <td>77.6</td>\n",
       "      <td>Precipitation</td>\n",
       "    </tr>\n",
       "    <tr>\n",
       "      <th>675</th>\n",
       "      <td>RF</td>\n",
       "      <td>Fall</td>\n",
       "      <td>5</td>\n",
       "      <td>20</td>\n",
       "      <td>50</td>\n",
       "      <td>small</td>\n",
       "      <td>Khd</td>\n",
       "      <td>70.8</td>\n",
       "      <td>Precipitation</td>\n",
       "    </tr>\n",
       "    <tr>\n",
       "      <th>473</th>\n",
       "      <td>RF</td>\n",
       "      <td>Winter</td>\n",
       "      <td>5</td>\n",
       "      <td>3</td>\n",
       "      <td>50</td>\n",
       "      <td>small</td>\n",
       "      <td>Kga</td>\n",
       "      <td>60.7</td>\n",
       "      <td>Spontaneous</td>\n",
       "    </tr>\n",
       "  </tbody>\n",
       "</table>\n",
       "</div>"
      ],
      "text/plain": [
       "    Type of slope movement  Season  min_volume  median_volume  max_volume  \\\n",
       "398                     RF  Summer           5             20          50   \n",
       "138                     RS  Spring         500           2000        5000   \n",
       "883                     RF  Spring           5              5          50   \n",
       "675                     RF    Fall           5             20          50   \n",
       "473                     RF  Winter           5              3          50   \n",
       "\n",
       "    Relative size Rock unit  slope_angle_degrees        trigger  \n",
       "398         small       Khd                 80.1    Spontaneous  \n",
       "138         large       Kga                 76.3  Precipitation  \n",
       "883         small       Kec                 77.6  Precipitation  \n",
       "675         small       Khd                 70.8  Precipitation  \n",
       "473         small       Kga                 60.7    Spontaneous  "
      ]
     },
     "execution_count": 1055,
     "metadata": {},
     "output_type": "execute_result"
    }
   ],
   "source": [
    "X_train.head()"
   ]
  },
  {
   "cell_type": "code",
   "execution_count": 1036,
   "id": "a98ee321",
   "metadata": {},
   "outputs": [
    {
     "data": {
      "text/plain": [
       "array([1, 1, 0, 1, 0, 1, 0, 0, 1, 0, 0, 0, 0, 1, 1, 1, 1, 0, 1, 0, 1, 1,\n",
       "       1, 0, 1, 0, 1, 1, 1, 1, 0, 1, 0, 0, 1, 1, 1, 1, 1, 1, 1, 1, 0, 0,\n",
       "       1, 1, 1, 1, 0, 1, 1, 1, 0, 0, 0, 1, 0, 0, 0, 1, 1, 1, 1, 1, 1, 0,\n",
       "       1, 1, 1, 1, 0, 1, 0, 1, 1, 1, 0, 1, 0, 0, 0, 1, 0, 1, 0, 1, 1, 1,\n",
       "       0, 1, 1, 1, 1, 1, 0, 1, 1, 1, 0, 1, 0, 0, 1, 1, 0, 1, 0, 1, 0, 1,\n",
       "       1, 0, 0, 1, 0, 1, 1, 0, 1, 1, 0, 0, 1, 1, 0, 0, 0])"
      ]
     },
     "execution_count": 1036,
     "metadata": {},
     "output_type": "execute_result"
    }
   ],
   "source": [
    "y_test"
   ]
  },
  {
   "cell_type": "code",
   "execution_count": 1054,
   "id": "5d51f754",
   "metadata": {},
   "outputs": [
    {
     "data": {
      "text/plain": [
       "Index(['Type of slope movement', 'Season', 'min_volume', 'median_volume',\n",
       "       'max_volume', 'Relative size', 'Rock unit', 'slope_angle_degrees',\n",
       "       'trigger'],\n",
       "      dtype='object')"
      ]
     },
     "execution_count": 1054,
     "metadata": {},
     "output_type": "execute_result"
    }
   ],
   "source": [
    "X_train.columns"
   ]
  },
  {
   "cell_type": "code",
   "execution_count": 1056,
   "id": "1406e361",
   "metadata": {},
   "outputs": [
    {
     "name": "stdout",
     "output_type": "stream",
     "text": [
      "<class 'pandas.core.frame.DataFrame'>\n",
      "Index: 504 entries, 398 to 432\n",
      "Data columns (total 9 columns):\n",
      " #   Column                  Non-Null Count  Dtype  \n",
      "---  ------                  --------------  -----  \n",
      " 0   Type of slope movement  504 non-null    object \n",
      " 1   Season                  504 non-null    object \n",
      " 2   min_volume              504 non-null    int64  \n",
      " 3   median_volume           504 non-null    int64  \n",
      " 4   max_volume              504 non-null    int64  \n",
      " 5   Relative size           504 non-null    object \n",
      " 6   Rock unit               504 non-null    object \n",
      " 7   slope_angle_degrees     504 non-null    float64\n",
      " 8   trigger                 504 non-null    object \n",
      "dtypes: float64(1), int64(3), object(5)\n",
      "memory usage: 39.4+ KB\n"
     ]
    }
   ],
   "source": [
    "X_train.info()"
   ]
  },
  {
   "cell_type": "code",
   "execution_count": 1037,
   "id": "e0317015",
   "metadata": {},
   "outputs": [],
   "source": [
    "from sklearn.ensemble import RandomForestClassifier,GradientBoostingClassifier\n",
    "from sklearn.svm import SVC\n",
    "from sklearn.metrics import accuracy_score,classification_report,confusion_matrix"
   ]
  },
  {
   "cell_type": "code",
   "execution_count": 1040,
   "id": "2fa2fab7",
   "metadata": {},
   "outputs": [
    {
     "name": "stdout",
     "output_type": "stream",
     "text": [
      "\n",
      "RandomForest Accuracy: 0.9921\n",
      "\n",
      "RandomForest Classification Report:\n",
      "              precision    recall  f1-score   support\n",
      "\n",
      "           0       1.00      0.98      0.99        50\n",
      "           1       0.99      1.00      0.99        77\n",
      "\n",
      "    accuracy                           0.99       127\n",
      "   macro avg       0.99      0.99      0.99       127\n",
      "weighted avg       0.99      0.99      0.99       127\n",
      "\n",
      "RandomForest Confusion Matrix:\n"
     ]
    },
    {
     "data": {
      "text/plain": [
       "Text(0.5, 14.722222222222216, 'Predicted')"
      ]
     },
     "execution_count": 1040,
     "metadata": {},
     "output_type": "execute_result"
    },
    {
     "data": {
      "image/png": "[encoded data removed]",
      "text/plain": [
       "<Figure size 600x400 with 2 Axes>"
      ]
     },
     "metadata": {},
     "output_type": "display_data"
    }
   ],
   "source": [
    "rf_pipeline = Pipeline(steps=[\n",
    "    ('preprocessor', preprocessor),\n",
    "    ('classifier', RandomForestClassifier(n_estimators=3, random_state=2,max_depth=5))\n",
    "])\n",
    "\n",
    "# Train the model\n",
    "rf_pipeline.fit(X_train, y_train)\n",
    "\n",
    "# Make predictions\n",
    "y_pred_rf = rf_pipeline.predict(X_test)\n",
    "\n",
    "# --- Evaluate the RandomForest Model ---\n",
    "accuracy_rf = accuracy_score(y_test, y_pred_rf)\n",
    "print(f\"\\nRandomForest Accuracy: {accuracy_rf:.4f}\")\n",
    "\n",
    "print(\"\\nRandomForest Classification Report:\")\n",
    "print(classification_report(y_test, y_pred_rf))\n",
    "\n",
    "print(\"RandomForest Confusion Matrix:\")\n",
    "cm_rf = confusion_matrix(y_test, y_pred_rf)\n",
    "# Plotting the confusion matrix for better visualization\n",
    "plt.figure(figsize=(6,4))\n",
    "sns.heatmap(cm_rf, annot=True, fmt='d', cmap='Blues', xticklabels=['Predicted 0', 'Predicted 1'], yticklabels=['Actual 0', 'Actual 1'])\n",
    "plt.title('RandomForest Confusion Matrix')\n",
    "plt.ylabel('Actual')\n",
    "plt.xlabel('Predicted')"
   ]
  },
  {
   "cell_type": "code",
   "execution_count": 1041,
   "id": "2b5b7a91",
   "metadata": {},
   "outputs": [],
   "source": [
    "temp_df.to_csv('my_data.csv', index=False)"
   ]
  },
  {
   "cell_type": "code",
   "execution_count": 1047,
   "id": "929f0389",
   "metadata": {},
   "outputs": [
    {
     "name": "stdout",
     "output_type": "stream",
     "text": [
      "\n",
      "Pipeline saved successfully to model.pkl\n"
     ]
    }
   ],
   "source": [
    "import pickle\n",
    "\n",
    "\n",
    "filename = 'model.pkl'\n",
    "\n",
    "# Open the file in write-binary ('wb') mode and save the pipeline\n",
    "with open(filename, 'wb') as file:\n",
    "    pickle.dump(rf_pipeline, file)\n",
    "\n",
    "print(f\"\\nPipeline saved successfully to {filename}\")"
   ]
  },
  {
   "cell_type": "code",
   "execution_count": null,
   "id": "060b54e3",
   "metadata": {},
   "outputs": [],
   "source": []
  }
 ],
 "metadata": {
  "kernelspec": {
   "display_name": "henv",
   "language": "python",
   "name": "python3"
  },
  "language_info": {
   "codemirror_mode": {
    "name": "ipython",
    "version": 3
   },
   "file_extension": ".py",
   "mimetype": "text/x-python",
   "name": "python",
   "nbconvert_exporter": "python",
   "pygments_lexer": "ipython3",
   "version": "3.12.10"
  }
 },
 "nbformat": 4,
 "nbformat_minor": 5
}
